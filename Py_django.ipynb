{
 "cells": [
  {
   "cell_type": "markdown",
   "metadata": {},
   "source": [
    "用户在浏览器中输入URL后的回车，浏览器会对URL进行检查\n",
    "如果是http就按照 Web 来处理，然互调用DNS查询，将域名转换为IP地址，然后经过网络传输到达对应Web服务器\n",
    "服务器对url进行解析后，调用View中的逻辑\n",
    "又涉及到Model(MTV中的M)，与数据库的进行交互，将数据发到Template(MTV中的T)进行渲染"
   ]
  },
  {
   "cell_type": "markdown",
   "metadata": {},
   "source": [
    "source activate py3\n",
    "python -m django --version\n",
    "\n",
    "新建项目\n",
    "django-admin startproject mysite\n",
    "\n",
    "启动开发服务器\n",
    "python manage.py runserver 8000\n",
    "python manage.py runserver 0.0.0.0:8080\n",
    "\n",
    "创建应用(确保与manage.py文件处于同一级)\n",
    "python manage.py startapp polls\n"
   ]
  },
  {
   "cell_type": "markdown",
   "metadata": {},
   "source": [
    "1. 新建项目\n",
    "    * django-admin startproject mysitexx\n",
    "2. 启动项目\n",
    "    * python manage.py runserver\n",
    "    * python manage.py runserver 0.0.0.0:8080\n",
    "    * python -m django --version\n",
    "3. 创建模块\n",
    "    * python manage.py startapp polls"
   ]
  }
 ],
 "metadata": {
  "kernelspec": {
   "display_name": "Python 3",
   "language": "python",
   "name": "python3"
  },
  "language_info": {
   "codemirror_mode": {
    "name": "ipython",
    "version": 3
   },
   "file_extension": ".py",
   "mimetype": "text/x-python",
   "name": "python",
   "nbconvert_exporter": "python",
   "pygments_lexer": "ipython3",
   "version": "3.6.6"
  }
 },
 "nbformat": 4,
 "nbformat_minor": 2
}
