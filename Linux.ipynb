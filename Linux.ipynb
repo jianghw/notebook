{
 "cells": [
  {
   "cell_type": "markdown",
   "metadata": {},
   "source": [
    "### locate\n",
    "\n",
    "- e.g.\n",
    "    * sudo updatedb\n",
    "    * locate -i /*xxx*\n",
    "    \n",
    "\n",
    "### find\n",
    "\n",
    "- e.g.\n",
    "    * find . //当前目录及子目录下所有文件和文件夹\n",
    "    * find /home -name \"*.txt\" //在/home目录下查找以.txt结尾的文件名\n",
    "    * find /home -iname \"*.txt\" //忽略大小\n",
    "    * find . -name \"*.txt\" -o -name \"*.pdf\" //当前目录及子目录下查找所有以.txt和.pdf结尾的文件\n",
    "    * find /usr/ -path \"*local*\" //匹配文件路径或者文件\n",
    "    \n",
    "    * find ~nemo -type f -empty # 将在 nemo 的主目录中找到空文件\n",
    "    \n",
    "- 详情\n",
    "    * find -type f 从当前目录开始将递归列出所有常规文件"
   ]
  },
  {
   "cell_type": "markdown",
   "metadata": {},
   "source": [
    "### tar\n",
    "\n",
    "- e.g.\n",
    "    * 压 缩： tar -jcvf filename.tar.bz2 要被压缩的档案或目录名称\n",
    "    * 查 询： tar -jtvf filename.tar.bz2\n",
    "    * 解压缩：tar -jxvf filename.tar.bz2 -C 欲解压缩的目录\n",
    "    \n",
    "    ```\n",
    "        -c  建立打包档案，可搭配 -v 来察看过程中被打包的档名(filename)\n",
    "        -t  察看打包档案的内容含有哪些档名，重点在察看『档名』就是了；\n",
    "        -x  解打包或解压缩的功能，可以搭配 -C (大写) 在特定目录解开辅选项：\n",
    "        -j  透过 bzip2 的支持进行压缩/解压缩：此时档名最好为 *.tar.bz2\n",
    "        -z  透过 gzip 的支持进行压缩/解压缩：此时档名最好为 *.tar.gz\n",
    "        -v  在压缩/解压缩的过程中，将正在处理的文件名显示出来！\n",
    "        -f filename -f 后面要立刻接要被处理的档名！\n",
    "        -C 目录   这个选项用在解压缩，若要在特定目录解压缩，可以使用这个选项。\n",
    "        --exclude FILE：在压缩打包过程中忽略某文件 eg: tar --exclude /home/zenghao -zcvf myfile.tar.gz /home/* /etc\n",
    "        -p  保留备份数据的原本权限与属性，常用于备份(-c)重要的配置文件\n",
    "        -P(大写）  保留绝对路径，亦即允许备份数据中含有根目录存在之意；\n",
    "    ```"
   ]
  },
  {
   "cell_type": "markdown",
   "metadata": {},
   "source": [
    "### chown\n",
    "### chgrp\n",
    "### chmod\n",
    "\n",
    "* e.g. 权限\n",
    "    - chomd u+x,g+w file  # 文件设置执行，组员写入权限\n",
    "    - chomd u=rwx,g=rw,o=r file\n",
    "    - chomd 777 file\n",
    "    - chomd a+x file  # 文件的u,g,o都设置执行属性\n",
    "* args\n",
    "    - R  # 递归处理"
   ]
  },
  {
   "cell_type": "markdown",
   "metadata": {},
   "source": [
    "### rm\n",
    "- e.g.\n",
    "    * rm -r * //删除当前目录下除隐含文件外的所有文件和子目录\n",
    "    * rm -frv xx //强制递归删除详情\n",
    "    \n",
    "- 详情\n",
    "    * -d：直接把欲删除的目录的硬连接数据删除成0，删除该目录；\n",
    "    * -f：强制删除文件或目录；\n",
    "    * -i：删除已有文件或目录之前先询问用户；\n",
    "    * -r或-R：递归处理，将指定目录下的所有文件与子目录一并处理；\n",
    "    * --preserve-root：不对根目录进行递归操作；\n",
    "    * -v：显示指令的详细执行过程。\n",
    "    \n",
    "- mysql\n",
    "    - sudo apt-get autoremove --purge mysql-server\n",
    "    - sudo apt-get autoremove --purge mysql-client\n",
    "    - sudo apt-get remove mysql-server\n",
    "    - sudo apt-get autoremove mysql-server\n",
    "    - sudo apt-get remove mysql-common\n",
    "    - sudo apt-get autoremove --purge mysql-common\n",
    "    \n",
    "- 清理残留数据\n",
    "    - dpkg -l |grep ^rc|awk '{print 7&2}' |sudo xargs dpkg -P"
   ]
  },
  {
   "cell_type": "markdown",
   "metadata": {},
   "source": [
    "### dpkg\n",
    "\n",
    "- e.g.\n",
    "    ```\n",
    "        dpkg -i package.deb     #安装包\n",
    "        dpkg -r package         #删除包\n",
    "        dpkg -P package         #删除包（包括配置文件）\n",
    "        dpkg -L package         #列出与该包关联的文件\n",
    "        dpkg -l package         #显示该包的版本\n",
    "        dpkg --unpack package.deb  #解开deb包的内容\n",
    "        dpkg -S keyword            #搜索所属的包内容\n",
    "        dpkg -l                    #列出当前已安装的包\n",
    "        dpkg -c package.deb        #列出deb包的内容\n",
    "        dpkg --configure package   #配置包\n",
    "    ```\n",
    "\n",
    "    ```\n",
    "        -i：安装软件包；\n",
    "        -r：删除软件包；\n",
    "        -P：删除软件包的同时删除其配置文件；\n",
    "        -L：显示于软件包关联的文件；\n",
    "        -l：显示已安装软件包列表；\n",
    "        --unpack：解开软件包；\n",
    "        -c：显示软件包内文件列表；\n",
    "        --confiugre：配置软件包。\n",
    "    ```"
   ]
  },
  {
   "cell_type": "markdown",
   "metadata": {},
   "source": [
    "### lsof\n",
    "\n",
    "- e.g.\n",
    "    * sudo lsof -i :8081 //可查看进程"
   ]
  }
 ],
 "metadata": {
  "kernelspec": {
   "display_name": "Python 3",
   "language": "python",
   "name": "python3"
  },
  "language_info": {
   "codemirror_mode": {
    "name": "ipython",
    "version": 3
   },
   "file_extension": ".py",
   "mimetype": "text/x-python",
   "name": "python",
   "nbconvert_exporter": "python",
   "pygments_lexer": "ipython3",
   "version": "3.6.6"
  }
 },
 "nbformat": 4,
 "nbformat_minor": 2
}
