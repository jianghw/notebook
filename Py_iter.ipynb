{
 "cells": [
  {
   "cell_type": "markdown",
   "metadata": {},
   "source": [
    "1. 迭代器\n",
    "    - isinstance()   \n",
    "        可迭代对象不一定是迭代器   \n",
    "        迭代器类型，数值类型不是\n",
    "        \n",
    "    - iter()   \n",
    "        将某对象转为一个迭代器返回一个迭代器对象，接受的参数是一个实现了__iter__()方法的容器或迭代器   \n",
    "        还支持仅有__getitem__()方法的容器\n",
    "        \n",
    "    - 协议   \n",
    "        实现__iter__()方法，返回一个迭代器   \n",
    "        实现next()方法,如果当前位置已无元素，则抛出StopIteration异常   \n",
    "        \n",
    "2. 生成器\n",
    "    - generator   \n",
    "        创建生成器方式   \n",
    "        一个generator类型的对象，而这个对象带有__iter__()和next()方法，可见的确是一个迭代器\n",
    "        \n",
    "    - yield   \n",
    "        当第一次调用next()方法时，生成器函数开始执行，执行到yield表达式为止   \n",
    "        如例子中的value=(yield value)语句中，只是执行了yield value这个表达式，而赋值操作并未执行   \n",
    "    \n",
    "    - send   \n",
    "        send()是全功能版本的next()\n",
    "        \n",
    "    - close   \n",
    "        当调用close()方法时，yield表达式就抛出GeneratorExit异常，生成器对象会自行处理这个异常   \n",
    "        当调用close()之后，再次调用next()、send()会使生成器对象抛出StopIteration异常   \n",
    "        "
   ]
  },
  {
   "cell_type": "code",
   "execution_count": null,
   "metadata": {},
   "outputs": [],
   "source": [
    "# ex 1-1\n",
    "from collections import Iterable\n",
    "# str\n",
    "print('str --{}'.format(isinstance('python',Iterable)))\n",
    "# list\n",
    "print('list --{}'.format(isinstance([],Iterable)))\n",
    "# set\n",
    "print('set --{}'.format(isinstance({},Iterable)))\n",
    "# tuple\n",
    "print('tuple --{}'.format(isinstance((),Iterable)))\n",
    "# num\n",
    "print('num --{}'.format(isinstance(123,Iterable)))\n",
    "\n",
    "a=[1,2,3,4]\n",
    "try:\n",
    "    next(a)\n",
    "except BaseException as e:\n",
    "    print('except is ->{}'.format(e))\n",
    "\n",
    "alist=range(3)\n",
    "print('range() is type --{}'.format(type(alist)))\n",
    "\n",
    "i=alist.__iter__()\n",
    "print('i is type {}'.format(type(i)))\n",
    "\n",
    "j=iter(alist)\n",
    "print('j is type {}'.format(type(j)))\n"
   ]
  },
  {
   "cell_type": "code",
   "execution_count": 9,
   "metadata": {},
   "outputs": [
    {
     "name": "stdout",
     "output_type": "stream",
     "text": [
      "a [] type is <class 'list'>\n",
      "b () type is <class 'generator'>\n",
      "b dir is ['__class__', '__del__', '__delattr__', '__dir__', '__doc__', '__eq__', '__format__', '__ge__', '__getattribute__', '__gt__', '__hash__', '__init__', '__init_subclass__', '__iter__', '__le__', '__lt__', '__name__', '__ne__', '__new__', '__next__', '__qualname__', '__reduce__', '__reduce_ex__', '__repr__', '__setattr__', '__sizeof__', '__str__', '__subclasshook__', 'close', 'gi_code', 'gi_frame', 'gi_running', 'gi_yieldfrom', 'send', 'throw']\n",
      "close() is called\n",
      "next() is called)\n"
     ]
    },
    {
     "data": {
      "text/plain": [
       "2"
      ]
     },
     "execution_count": 9,
     "metadata": {},
     "output_type": "execute_result"
    }
   ],
   "source": [
    "# ex 2-1\n",
    "a=[x**2 for x in range(5)]\n",
    "print('a [] type is {}'.format(type(a)))\n",
    "b=(x**2 for x in range(5))\n",
    "print('b () type is {}'.format(type(b)))\n",
    "print('b dir is {}'.format(dir(b)))\n",
    "\n",
    "def echo(value=None):\n",
    "    print('next() is called)')\n",
    "    try:\n",
    "        while True:\n",
    "            try:\n",
    "                value=(yield value)\n",
    "            except Exception as e:\n",
    "                value=e\n",
    "    finally:\n",
    "        print('close() is called')\n",
    "        \n",
    "generator=echo(2) #无输出\n",
    "next(generator)"
   ]
  }
 ],
 "metadata": {
  "kernelspec": {
   "display_name": "Python 3",
   "language": "python",
   "name": "python3"
  },
  "language_info": {
   "codemirror_mode": {
    "name": "ipython",
    "version": 3
   },
   "file_extension": ".py",
   "mimetype": "text/x-python",
   "name": "python",
   "nbconvert_exporter": "python",
   "pygments_lexer": "ipython3",
   "version": "3.6.5"
  }
 },
 "nbformat": 4,
 "nbformat_minor": 2
}
