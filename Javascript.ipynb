{
 "cells": [
  {
   "cell_type": "markdown",
   "metadata": {},
   "source": [
    "## npm\n",
    "        npm->package.json\n",
    "[官方文档](https://docs.npmjs.com/)   \n",
    "\n",
    "* 版本\n",
    "    - npm -v\n",
    "    - sudo npm i -g npm //更新到最新版本\n",
    "    \n",
    "\n",
    "## yarn\n",
    "        Facebook, Google, Exponent 和 Tilde 开发的一款新的 JavaScript 包管理工具\n",
    "        Yarn 会先读取yarn.lock\n",
    "    \n",
    "[学习文档](https://yarnpkg.com/zh-Hans/)    \n",
    "\n",
    "* 安装\n",
    "    - sudo npm install -g yarn react-native-cli\n",
    "* 镜像\n",
    "    - yarn config set registry https://registry.npm.taobao.org --global\n",
    "    - yarn config set disturl https://npm.taobao.org/dist --global\n",
    "* version\n",
    "    - yarn -v\n",
    "* install\n",
    "    - yarn install //package.json在本地 node_modules文件夹中安装列出的所有依赖项\n",
    "    - yarn install --check-files //验证已安装的文件node_modules未被删除\n",
    "    - yarn install --flat //\n",
    "* add\n",
    "    yarn 的--dev 参数则是添加开发依赖 -->  npm 的 --save-dev 参数"
   ]
  }
 ],
 "metadata": {
  "kernelspec": {
   "display_name": "Python 3",
   "language": "python",
   "name": "python3"
  },
  "language_info": {
   "codemirror_mode": {
    "name": "ipython",
    "version": 3
   },
   "file_extension": ".py",
   "mimetype": "text/x-python",
   "name": "python",
   "nbconvert_exporter": "python",
   "pygments_lexer": "ipython3",
   "version": "3.6.5"
  }
 },
 "nbformat": 4,
 "nbformat_minor": 2
}
