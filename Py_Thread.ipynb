{
 "cells": [
  {
   "cell_type": "code",
   "execution_count": null,
   "metadata": {},
   "outputs": [],
   "source": [
    "import threading\n",
    "\n",
    "def task_thread():\n",
    "    global x\n",
    "    for _ in range(10):\n",
    "        x+=1\n",
    "        print('thread is {} x= {}'.format(threading.current_thread().getName(),x))\n",
    "\n",
    "def do_main():  \n",
    "    t1=threading.Thread(target=task_thread,name='-->1')\n",
    "    t2=threading.Thread(target=task_thread,name='2-->')\n",
    "    \n",
    "    t1.start()\n",
    "    t2.start()\n",
    "    \n",
    "    t1.join()\n",
    "    t2.join()\n",
    "    \n",
    "x=0\n",
    "\n",
    "if __name__=='__main__':\n",
    "    for i in range(5):\n",
    "        do_main()\n",
    "        print('{} run x is {}'.format(i,x))"
   ]
  },
  {
   "cell_type": "code",
   "execution_count": null,
   "metadata": {},
   "outputs": [],
   "source": [
    "import threading\n",
    "\n",
    "def task_thread(lock):\n",
    "    global x\n",
    "    lock.acquire()\n",
    "    for _ in range(10):\n",
    "        x+=1\n",
    "        print('thread is {} x= {}'.format(threading.current_thread().getName(),x))\n",
    "    lock.release()\n",
    "\n",
    "def do_main():\n",
    "    lock=threading.Lock()\n",
    "    t1=threading.Thread(target=task_thread,args=(lock,),name='-->3')\n",
    "    t2=threading.Thread(target=task_thread,args=(lock,),name='4-->')\n",
    "    \n",
    "    t1.start()\n",
    "    t2.start()\n",
    "    \n",
    "    t1.join()\n",
    "    t2.join()\n",
    "\n",
    "x=0\n",
    "if __name__=='__main__':\n",
    "    for i in range(5):\n",
    "        do_main()\n",
    "        print('{} run x is {}'.format(i,x))"
   ]
  }
 ],
 "metadata": {
  "kernelspec": {
   "display_name": "Python 3",
   "language": "python",
   "name": "python3"
  },
  "language_info": {
   "codemirror_mode": {
    "name": "ipython",
    "version": 3
   },
   "file_extension": ".py",
   "mimetype": "text/x-python",
   "name": "python",
   "nbconvert_exporter": "python",
   "pygments_lexer": "ipython3",
   "version": "3.6.5"
  }
 },
 "nbformat": 4,
 "nbformat_minor": 2
}
