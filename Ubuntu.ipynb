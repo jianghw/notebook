{
 "cells": [
  {
   "cell_type": "markdown",
   "metadata": {},
   "source": [
    "### adb\n",
    "\n",
    "- 连接的设备\n",
    "    * adb devices\n",
    "    \n",
    "- CPU架构   \n",
    "    * adb shell\n",
    "    * cat /proc/cpuinfo\n",
    "    \n",
    "- lsusb\n",
    "- netstat\n",
    "- lsof\n",
    "    * sudo lsof -i :8081 可查看进程\n",
    "- server\n",
    "    * ps -s | grep node  某server状况\n",
    "- kill\n",
    "    * kill 1908  杀死进程id\n",
    "    * kill -KILL 1900  强杀\n",
    "    * kill -9 1900  彻底杀\n",
    "    * kill -u tank  杀死指定用户的所有进程"
   ]
  },
  {
   "cell_type": "markdown",
   "metadata": {},
   "source": [
    "### Git\n",
    "\n",
    "- 安装\n",
    "    * sudo apt-get install git\n",
    "    * git config --global user.name \"jianghw\"\n",
    "    * git config --global user.eamil \"jhw89@163.com\"\n",
    "    * ssh-keygen -C 'jhw89@163.com' -t rsa\n",
    "    \n",
    "#### gitkraken\n",
    "\n",
    "- 无法启动18.04\n",
    "    * sudo apt-get -f install\n",
    "    * sudo apt-get install libcanberra-gtk-module\n",
    "    * sudo apt-get install libgnome-keyring-common libgnome-keyring-dev"
   ]
  },
  {
   "cell_type": "markdown",
   "metadata": {},
   "source": [
    "### SSH\n",
    "\n",
    "    * dpkg -l | grep ssh  #查看安装的服务 默认只安装ssh-client服务\n",
    "    * ps -e | grep ssh  #ssh-server 有sshd,说明ssh服务已经启\n",
    "    \n",
    "    + sudo apt-get install openssh-server\n",
    "    * sudo /etc/init.d/ssh start\n",
    "    * sudo service ssh start \n",
    "    * sudo /etc/init.d/ssh stop \n",
    "    \n",
    "- 配置\n",
    "\n",
    "    * sudo gedit /etc/ssh/sshd_config"
   ]
  },
  {
   "cell_type": "markdown",
   "metadata": {},
   "source": [
    "### LibreOffice\n",
    "\n",
    "### MindMaster"
   ]
  },
  {
   "cell_type": "markdown",
   "metadata": {},
   "source": [
    "### mongoDB\n",
    "\n",
    "- 环境信息\n",
    "    * uname -r\n",
    "    * sudo uname --m\n",
    "    * sudo lsb_release -a\n",
    "    \n",
    "- 安装\n",
    "    * tar -zxvf xxxx.tgz\n",
    "    * export PATH=<mongodb-install-directory>/bin\n",
    "    * mkdir -p /data/db  # MongoDB 默认的启动的数据库路径(--dbpath)\n",
    "    * 默认端口27017\n",
    "    * ./mongod --dbpath=/data/db --rest\n",
    "    \n",
    "- 命令\n",
    "    * sudo service mongod status\n",
    "    * sudo service mongod start\n",
    "    * sudo service mongod retart\n",
    "    * sudo service mongod stop\n",
    "   "
   ]
  },
  {
   "cell_type": "markdown",
   "metadata": {},
   "source": [
    "### f.lux\n",
    "\n",
    "[官方下载](https://justgetflux.com/linux.html)\n",
    "\n",
    "- 安装\n",
    "    * sudo add-apt-repository ppa:nathan-renniewaldock/flux\n",
    "    * sudo apt-get update\n",
    "    * sudo apt-get install fluxgui"
   ]
  },
  {
   "cell_type": "markdown",
   "metadata": {},
   "source": [
    "### Charles\n",
    "\n",
    "[官网下载](http://www.charlesproxy.com/)\n",
    "\n",
    "[破解工具](https://www.zzzmode.com/mytools/charles/)\n",
    "\n",
    "1. 配置\n",
    "    * Proxy->Proxy setting\n",
    "    * Port:8888 Enable transparent HTTP proxying\n",
    " \n",
    "2. 证书\n",
    "    * 设置手机、保持charles连接状态\n",
    "    * Help -> SSL Proxying -> Install Charles Root Certificate on a Mobile Device\n",
    "    * browse to [chls.pro/ssl]\n",
    "    * 设置→通用→关于本机→证书信任设置，里面启用完全信任Charles证书\n",
    " \n",
    "3. 过滤\n",
    "    * Proxy->”Recording Settings”->Include\n",
    "    * Proxy->SSL Proxy Settings->Enable SSL Proxying,点击Add\n",
    "    * Port填写：443"
   ]
  },
  {
   "cell_type": "code",
   "execution_count": null,
   "metadata": {},
   "outputs": [],
   "source": []
  },
  {
   "cell_type": "code",
   "execution_count": null,
   "metadata": {},
   "outputs": [],
   "source": []
  },
  {
   "cell_type": "markdown",
   "metadata": {},
   "source": [
    "### android studio\n",
    "\n",
    "- 环境\n",
    "    ```\n",
    "        export JAVA_HOME=/opt/android-studio/jre\n",
    "        export ANDROID_HOME=/home/jianghw/Android/Sdk\n",
    "        export ADB_HOME=77ANDROID_HOME/platform-tools\n",
    "        export GROOVY_HOME=/home/jianghw/Android/groovy-2.4.13\n",
    "        export GRADLE_HOME=/home/jianghw/Android/gradle-4.1\n",
    "        export PATH=444{PATH}:444{JAVA_HOME}/bin:444{JAVA_HOME}/jre/bin:444{ANDROID_HOME}/tools:444{ADB_HOME}:444{GROOVY_HOME}/bin:444{GRADLE_HOME}/bin\n",
    "        export CLASSPATH=444{CLASSPATH}:.:444{JAVA_HOME}/lib:444{JAVA_HOME}/jre/lib\n",
    "        \n",
    "    ```\n",
    "    \n",
    "- idea.properties\n",
    "\n",
    "    * idea.config.path=/home/jianghw/Android/.AndroidStudio/config\n",
    "    * idea.system.path=/home/jianghw/Android/.AndroidStudio/system\n",
    "    * idea.plugins.path=77{idea.config.path}/plugins\n",
    "    * idea.log.path=77{idea.system.path}/log"
   ]
  },
  {
   "cell_type": "markdown",
   "metadata": {},
   "source": [
    "### WebStorm\n",
    "\n",
    "- 注册码\n",
    "        https://idea.qmanga.com/\n",
    "        \n",
    "- 安装\n",
    "        ```\n",
    "        sudo tar xfz ~/Downloads/WebStorm-16.2.3.tar.gz \n",
    "        sudo mv ~/Downloads/WebStorm-162.2228.20 /opt/\n",
    "        cd /opt/WebStorm-162.2228.20/\n",
    "        cd bin/\n",
    "        sudo sh webstorm.sh\n",
    "        \n",
    "        ```"
   ]
  },
  {
   "cell_type": "markdown",
   "metadata": {},
   "source": [
    "### Remmina\n",
    "\n",
    "[remmina官网](https://www.remmina.org/wp/)\n",
    "\n",
    "- 安装\n",
    "\n",
    "    * sudo apt-get install remmina remmina-plugin-*   #-->Debian/Ubuntu\n",
    "    * yum install remmina remmina-plugin-*  #-->CentOS/RHEL\n",
    "    * sudo dnf copr enable hubbitus/remmina-next  #-->Fedora 22+\n",
    "    * sudo dnf upgrade --refresh 'remmina*' 'freerdp*'"
   ]
  },
  {
   "cell_type": "markdown",
   "metadata": {},
   "source": [
    "### 系统环境\n",
    "\n",
    "- .bashrc\n",
    "        用户目录下的.bashrc文件\n",
    "        只负责控制台调用的环境变量\n",
    "    * gedit ~/.bashrc\n",
    "    * export PATH=~/mypath/bin:444PATH\n",
    "    * source ~/.bashrc\n",
    "    \n",
    "- .profile\n",
    "        用户目录下的.profile文件\n",
    "        负责本用户所有环境变量的设置\n",
    "        \n",
    "- environment\n",
    "        该文件也是重启生效，影响所有用户\n",
    "    * gedit /etc/environment"
   ]
  },
  {
   "cell_type": "markdown",
   "metadata": {},
   "source": [
    "### 硬盘\n",
    "\n",
    "- fsck\n",
    "    * fsck exited with status code4\n",
    "    * fsck.ext4 -y /dev/sda5"
   ]
  },
  {
   "cell_type": "markdown",
   "metadata": {},
   "source": [
    "### Font\n",
    "\n",
    "    * sudo mkdir /usr/share/fonts/truetype/windows-font\n",
    "    * sudo cp /usr/software/fonts/Fonts/* /usr/share/fonts/truetype/windows-font\n",
    "    * sudo chmod -R 777  /usr/share/fonts/truetype/windows-font\n",
    "    * cd /usr/share/fonts/truetype/windows-font\n",
    "    * sudo mkfontscale\n",
    "    * sudo mkfontdir\n",
    "    * sudo fc-cache -fv\n",
    "    * sudo reboot"
   ]
  }
 ],
 "metadata": {
  "kernelspec": {
   "display_name": "Python 3",
   "language": "python",
   "name": "python3"
  },
  "language_info": {
   "codemirror_mode": {
    "name": "ipython",
    "version": 3
   },
   "file_extension": ".py",
   "mimetype": "text/x-python",
   "name": "python",
   "nbconvert_exporter": "python",
   "pygments_lexer": "ipython3",
   "version": "3.6.5"
  }
 },
 "nbformat": 4,
 "nbformat_minor": 2
}
