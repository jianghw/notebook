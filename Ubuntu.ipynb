{
 "cells": [
  {
   "cell_type": "markdown",
   "metadata": {},
   "source": [
    "# Ubuntu"
   ]
  },
  {
   "cell_type": "markdown",
   "metadata": {},
   "source": [
    "## Git\n",
    "\n",
    "+ sudo apt-get install git\n",
    "- git config --global user.name \"jianghw\"\n",
    "- git config --global user.eamil \"jhw89@163.com\"\n",
    "- ssh-keygen -C 'jhw89@163.com' -t rsa"
   ]
  },
  {
   "cell_type": "markdown",
   "metadata": {},
   "source": [
    "## SSH\n",
    "***\n",
    "- dpkg -l | grep ssh #查看安装的服务\n",
    "- ps -e | grep ssh #ssh-server是否启动\n",
    "+ sudo apt-get install openssh-server\n",
    "- sudo /etc/init.d/ssh start\n",
    "- sudo service ssh start \n",
    "- sudo /etc/init.d/ssh stop \n"
   ]
  },
  {
   "cell_type": "code",
   "execution_count": null,
   "metadata": {},
   "outputs": [],
   "source": []
  }
 ],
 "metadata": {
  "kernelspec": {
   "display_name": "Python 3",
   "language": "python",
   "name": "python3"
  },
  "language_info": {
   "codemirror_mode": {
    "name": "ipython",
    "version": 3
   },
   "file_extension": ".py",
   "mimetype": "text/x-python",
   "name": "python",
   "nbconvert_exporter": "python",
   "pygments_lexer": "ipython3",
   "version": "3.6.4"
  }
 },
 "nbformat": 4,
 "nbformat_minor": 2
}
