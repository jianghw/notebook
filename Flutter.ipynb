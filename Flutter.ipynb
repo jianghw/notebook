{
 "cells": [
  {
   "cell_type": "markdown",
   "metadata": {},
   "source": [
    "1. 安装\n",
    "    - 环境\n",
    "        export FLUTTER_HOME=/home/jianghw/flutter/bin\n",
    "        export PATH=${PATH}:${FLUTTER_HOME}\n",
    "        export PUB_HOSTED_URL=https://pub.flutter-io.cn\n",
    "        export FLUTTER_STORAGE_BASE_URL=https://storage.flutter-io.cn\n",
    "        \n",
    "    - 关联\n",
    "        export PATH=/Users/用户名/Documents/flutter/flutter/bin:$PATH\n",
    "        export ANDROID_HOME=\"/Users/用户名/Documents/android_sdk\" //android sdk目录，替换为你自己的即可\n",
    "        export PATH=${PATH}:${ANDROID_HOME}/tools\n",
    "        export PATH=${PATH}:${ANDROID_HOME}/platform-tools\n",
    "        export PUB_HOSTED_URL=https://pub.flutter-io.cn\n",
    "        export FLUTTER_STORAGE_BASE_URL=https://storage.flutter-io.cn    \n",
    "        \n",
    "    - 升级\n",
    "        flutter upgrade\n",
    "        flutter packages get\n",
    "            pubspec.yaml文件中列出的所有依赖包\n",
    "        flutter packages upgrade\n",
    "            获取pubspec.yaml文件中列出的所有依赖包的最新版\n",
    "        ./bin/flutter config --no-analytics\n",
    "            禁用通过 Google Analytics 发送数据\n",
    "            \n",
    "    - 版本\n",
    "        flutter channel\n",
    "        flutter channel beta\n",
    "        \n",
    "    - 插件\n",
    "        Flutter插件： 支持Flutter开发工作流 (运行、调试、热重载等)\n",
    "        Dart插件： 提供代码分析 (输入代码时进行验证、代码补全等)"
   ]
  }
 ],
 "metadata": {
  "kernelspec": {
   "display_name": "Python 3",
   "language": "python",
   "name": "python3"
  },
  "language_info": {
   "codemirror_mode": {
    "name": "ipython",
    "version": 3
   },
   "file_extension": ".py",
   "mimetype": "text/x-python",
   "name": "python",
   "nbconvert_exporter": "python",
   "pygments_lexer": "ipython3",
   "version": "3.6.6"
  }
 },
 "nbformat": 4,
 "nbformat_minor": 2
}
