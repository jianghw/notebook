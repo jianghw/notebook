{
 "cells": [
  {
   "cell_type": "markdown",
   "metadata": {},
   "source": [
    "# 虚拟机"
   ]
  },
  {
   "cell_type": "markdown",
   "metadata": {},
   "source": [
    "## Virtualbox\n",
    "* 密码\n",
    "        123456\n",
    "* 状态\n",
    "    - sudo service virtualbox status\n",
    "    - sudo service virtualbox start\n",
    "    - sudo service virtualbox stop\n",
    "    \n",
    "### 快捷键\n",
    "\n",
    "* 视图\n",
    "    - 右ctrl+c 自动缩放\n",
    "    - 右ctrl+a 自动调整窗口大小\n",
    "    - 右ctrl+a 全屏模式"
   ]
  },
  {
   "cell_type": "code",
   "execution_count": null,
   "metadata": {},
   "outputs": [],
   "source": []
  }
 ],
 "metadata": {
  "kernelspec": {
   "display_name": "Python 3",
   "language": "python",
   "name": "python3"
  },
  "language_info": {
   "codemirror_mode": {
    "name": "ipython",
    "version": 3
   },
   "file_extension": ".py",
   "mimetype": "text/x-python",
   "name": "python",
   "nbconvert_exporter": "python",
   "pygments_lexer": "ipython3",
   "version": "3.6.5"
  }
 },
 "nbformat": 4,
 "nbformat_minor": 2
}
