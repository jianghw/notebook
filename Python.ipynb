{
 "cells": [
  {
   "cell_type": "markdown",
   "metadata": {},
   "source": [
    "### 类\n",
    "\n",
    "    * 对象的 or 类的 数据成员\n",
    "        1-1 \n",
    "* 方法\n",
    "* 属性\n"
   ]
  },
  {
   "cell_type": "code",
   "execution_count": 2,
   "metadata": {},
   "outputs": [
    {
     "ename": "Exception",
     "evalue": "最多",
     "output_type": "error",
     "traceback": [
      "\u001b[0;31m---------------------------------------------------------------------------\u001b[0m",
      "\u001b[0;31mException\u001b[0m                                 Traceback (most recent call last)",
      "\u001b[0;32m<ipython-input-2-977074278db6>\u001b[0m in \u001b[0;36m<module>\u001b[0;34m()\u001b[0m\n\u001b[1;32m     12\u001b[0m \u001b[0mt1\u001b[0m\u001b[0;34m=\u001b[0m\u001b[0mDemo\u001b[0m\u001b[0;34m(\u001b[0m\u001b[0;34m)\u001b[0m\u001b[0;34m\u001b[0m\u001b[0m\n\u001b[1;32m     13\u001b[0m \u001b[0mt2\u001b[0m\u001b[0;34m=\u001b[0m\u001b[0mDemo\u001b[0m\u001b[0;34m(\u001b[0m\u001b[0;34m)\u001b[0m\u001b[0;34m\u001b[0m\u001b[0m\n\u001b[0;32m---> 14\u001b[0;31m \u001b[0mt3\u001b[0m\u001b[0;34m=\u001b[0m\u001b[0mDemo\u001b[0m\u001b[0;34m(\u001b[0m\u001b[0;34m)\u001b[0m\u001b[0;34m\u001b[0m\u001b[0m\n\u001b[0m",
      "\u001b[0;32m<ipython-input-2-977074278db6>\u001b[0m in \u001b[0;36m__new__\u001b[0;34m(cls, *args, **kwargs)\u001b[0m\n\u001b[1;32m      4\u001b[0m     \u001b[0;32mdef\u001b[0m \u001b[0m__new__\u001b[0m\u001b[0;34m(\u001b[0m\u001b[0mcls\u001b[0m\u001b[0;34m,\u001b[0m\u001b[0;34m*\u001b[0m\u001b[0margs\u001b[0m\u001b[0;34m,\u001b[0m\u001b[0;34m**\u001b[0m\u001b[0mkwargs\u001b[0m\u001b[0;34m)\u001b[0m\u001b[0;34m:\u001b[0m\u001b[0;34m\u001b[0m\u001b[0m\n\u001b[1;32m      5\u001b[0m         \u001b[0;32mif\u001b[0m \u001b[0mcls\u001b[0m\u001b[0;34m.\u001b[0m\u001b[0mtotal\u001b[0m\u001b[0;34m>=\u001b[0m\u001b[0;36m2\u001b[0m\u001b[0;34m:\u001b[0m\u001b[0;34m\u001b[0m\u001b[0m\n\u001b[0;32m----> 6\u001b[0;31m             \u001b[0;32mraise\u001b[0m \u001b[0mException\u001b[0m\u001b[0;34m(\u001b[0m\u001b[0;34m'最多'\u001b[0m\u001b[0;34m)\u001b[0m\u001b[0;34m\u001b[0m\u001b[0m\n\u001b[0m\u001b[1;32m      7\u001b[0m         \u001b[0;32melse\u001b[0m\u001b[0;34m:\u001b[0m\u001b[0;34m\u001b[0m\u001b[0m\n\u001b[1;32m      8\u001b[0m             \u001b[0;32mreturn\u001b[0m \u001b[0mobject\u001b[0m\u001b[0;34m.\u001b[0m\u001b[0m__new__\u001b[0m\u001b[0;34m(\u001b[0m\u001b[0mcls\u001b[0m\u001b[0;34m)\u001b[0m\u001b[0;34m\u001b[0m\u001b[0m\n",
      "\u001b[0;31mException\u001b[0m: 最多"
     ]
    }
   ],
   "source": [
    "# 1-1\n",
    "class Demo(object):\n",
    "    total=0\n",
    "    \n",
    "    def __new__(cls,*args,**kwargs):\n",
    "        if cls.total>=2:\n",
    "            raise Exception('最多')\n",
    "        else:\n",
    "            return object.__new__(cls)\n",
    "        \n",
    "    def __init__(self):\n",
    "        Demo.total=Demo.total+1\n",
    "t1=Demo()\n",
    "t2=Demo()\n",
    "t3=Demo()"
   ]
  },
  {
   "cell_type": "markdown",
   "metadata": {},
   "source": [
    "### 协程\n",
    "\n",
    "- yield\n",
    "    * datum = yield,可以产出值,yield关键字后面没有表达式,生成器产出None\n",
    "    * 调用方是通过send(datum)的方式把数据提供给协程使用\n",
    "    * next(...)当激活生成器后，程序会停在yield这里,但并没有给x赋值\n",
    "    * 协程在运行过程中有四个状态\n",
    "    @ 1-1\n",
    "        ```\n",
    "            GEN_CREATE:等待开始执行\n",
    "            GEN_RUNNING:解释器正在执行，这个状态一般看不到\n",
    "            GEN_SUSPENDED:在yield表达式处暂停\n",
    "            GEN_CLOSED:执行结束\n",
    "        ```\n",
    "\n",
    "- yield from\n",
    "    @ 1-2"
   ]
  },
  {
   "cell_type": "code",
   "execution_count": 41,
   "metadata": {},
   "outputs": [
    {
     "name": "stdout",
     "output_type": "stream",
     "text": [
      "->start a= 0\n",
      "->received b= 15\n"
     ]
    },
    {
     "data": {
      "text/plain": [
       "15"
      ]
     },
     "execution_count": 41,
     "metadata": {},
     "output_type": "execute_result"
    }
   ],
   "source": [
    "# 1-1\n",
    "def simple_core(a):\n",
    "    print('->start a=',a)\n",
    "    b=yield a\n",
    "    print('->received b=',b)\n",
    "    c=yield a+b\n",
    "    print('->received c=',c)\n",
    "#     d=yield a+b+c\n",
    "    \n",
    "abc=simple_core(100)\n",
    "from inspect import getgeneratorstate\n",
    "getgeneratorstate(abc)#查看状态\n",
    "next(abc)\n",
    "getgeneratorstate(abc)\n",
    "abc.send(15)\n",
    "# getgeneratorstate(abc)\n",
    "# abc.send(20)\n",
    "# getgeneratorstate(abc)"
   ]
  },
  {
   "cell_type": "code",
   "execution_count": 44,
   "metadata": {},
   "outputs": [],
   "source": [
    "data={\n",
    "    'girls;kg':[40.9, 38.5, 44.3, 42.2, 45.2, 41.7, 44.5, 38.0, 40.6, 44.5],\n",
    "    'girls;m':[1.6, 1.51, 1.4, 1.3, 1.41, 1.39, 1.33, 1.46, 1.45, 1.43],\n",
    "    'boys;kg':[39.0, 40.8, 43.2, 40.8, 43.1, 38.6, 41.4, 40.6, 36.3],\n",
    "    'boys;m':[1.38, 1.5, 1.32, 1.25, 1.37, 1.48, 1.25, 1.49, 1.46],\n",
    "}\n",
    "\n",
    "from collections import namedtuple\n",
    "Result=namedtuple('Result',['count','average'])\n",
    "\n",
    "def averager():\n",
    "    total=0.0\n",
    "    count=0\n",
    "    average=None\n",
    "    while True:\n",
    "        term=yield\n",
    "        if term is None:\n",
    "            break\n",
    "        total+=term\n",
    "        count+=1\n",
    "        average=total/count\n",
    "    return Result(count,average)\n",
    "\n",
    "def grouper(results,key):\n",
    "    while True:\n",
    "        results[key]=yield from averager()\n",
    "        \n",
    "def report(results):\n",
    "    for key,value in sorted(results.items()):\n",
    "        group,unit=key.split(';')\n",
    "        print('{} {} averageing--> {} {}'.format(value.count,group,value.average,unit))\n",
    "        print('{:2} {:5} averageing--> {:.2f} {}'.format(value.count,group,value.average,unit))\n",
    "        print('--------------------------------')\n",
    "\n",
    "def main(data):\n",
    "    results={}\n",
    "    for key,values in data.items():\n",
    "        group=grouper(results,key)\n",
    "        next(group)\n",
    "        for value in values:\n",
    "            group.send(value)\n",
    "        group.send(None)\n",
    "    report(results)\n",
    "        \n",
    "\n",
    "if __name__=='__main__':\n",
    "    main(data)"
   ]
  }
 ],
 "metadata": {
  "kernelspec": {
   "display_name": "Python 3",
   "language": "python",
   "name": "python3"
  },
  "language_info": {
   "codemirror_mode": {
    "name": "ipython",
    "version": 3
   },
   "file_extension": ".py",
   "mimetype": "text/x-python",
   "name": "python",
   "nbconvert_exporter": "python",
   "pygments_lexer": "ipython3",
   "version": "3.6.6"
  }
 },
 "nbformat": 4,
 "nbformat_minor": 2
}
