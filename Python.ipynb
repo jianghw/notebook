{
 "cells": [
  {
   "cell_type": "markdown",
   "metadata": {},
   "source": [
    "# Python\n",
    "\n",
    "-\n",
    "*\n",
    "+\n",
    "@list-3\n",
    "\n",
    "[TOC]\n"
   ]
  },
  {
   "cell_type": "markdown",
   "metadata": {},
   "source": [
    "## Anaconda\n",
    "\n",
    "[下载地址](https://www.anaconda.com/download/#linux)\n",
    "\n",
    "[安装步骤](https://docs.anaconda.com/anaconda/install/linux)\n",
    "\n",
    "* 安装\n",
    "    - bash ~/Downloads/Anaconda3-5.1.0-Linux-x86_64.sh\n",
    "    - echo 'export PATH=\"~/anaconda2/bin:$PATH\"' >> ~/.bashrc\n",
    "    - source ~/.bashrc\n",
    "    \n",
    "* IDE使用anaconda\n",
    "    - pycharm\n",
    "        setting--Project Interpreter--add local--Conda Environment--ex"
   ]
  },
  {
   "cell_type": "markdown",
   "metadata": {},
   "source": [
    "### Conda\n",
    "\n",
    "[官方文档](https://conda.io/docs/user-guide/tasks/index.html)\n",
    "\n",
    "[查询在线包链接](https://anaconda.org/)\n",
    "\n",
    "* 查看内容\n",
    "    - conda list\n",
    "    - conda list -n env_name\n",
    "    \n",
    "    - conda -V\n",
    "    - conda -h //查看帮助\n",
    "    - conda info -e //查看所以安装的环境\n",
    "    - python -V\n",
    "* 更新所有包\n",
    "    - conda upgrade -all\n",
    "* install\n",
    "    - conda install package_name\n",
    "    \n",
    "    - conda install numpy=1.13.3\n",
    "    - conda install --name [环境名称] beautifulsoup4\n",
    "* remove\n",
    "    - conda remove package_names\n",
    "    - conda env remove -n xxx //删除指定的环境\n",
    "    - conda remove -n xxx --all\n",
    "* update\n",
    "    - conda update --prefix /home/xxxx/anaconda3 anaconda\n",
    "    - conda update -n base conda\n",
    "    - conda update package_name\n",
    "    \n",
    "* search\n",
    "    - conda search search_term //可模糊查询\n",
    "* create\n",
    "    - conda create -n env_name package_names //env_name 设置环境\n",
    "    + conda create --name python36 python=3.6\n",
    "    + conda create -n py3 python=3 //可能是最新的包\n",
    "    \n",
    "    + conda info -e //确定创建好\n",
    "    - conda create -n py3 pandas //创建环境py3的环境并其中安装numpy\n",
    "    \n",
    "    - conda create --name py3 --clone base //从其他环境拷贝到新的环境\n",
    "* activate\n",
    "    - source activate py3 //进入环境\n",
    "* deactivate\n",
    "    - source deactivate\n",
    "* 镜像\n",
    "    - ~/.condarc (Linux/Mac)\n",
    "        ```\n",
    "        channels\n",
    "        https://mirrors.tuna.tsinghua.edu.cn/anaconda/pkgs/free/\n",
    "        https://mirrors.tuna.tsinghua.edu.cn/anaconda/pkgs/main/\n",
    "        defaults\n",
    "        show_channel_urls: yes\n",
    "        ```       \n",
    "    - ~/.pip/pip.conf (Linux/Mac)\n",
    "        ```\n",
    "        global\n",
    "        trusted-host =  pypi.douban.com\n",
    "        index-url = http://pypi.douban.com/simple\n",
    "        ```\n",
    "  \n",
    "    "
   ]
  },
  {
   "cell_type": "markdown",
   "metadata": {},
   "source": [
    "### jupyter notebook\n",
    "\n",
    "* 快捷键\n",
    "    - Esc + F 在代码中查找、替换\n",
    "    - Esc + O 在cell和输出结果间切换\n",
    "    - Shift + J 或 Shift + Down 选择下一个cell\n",
    "    - Shift + K 或 Shift + Up 选择上一个cell\n",
    "    - Shift + M 合并cell"
   ]
  },
  {
   "cell_type": "markdown",
   "metadata": {},
   "source": [
    "## pip\n",
    "\n",
    "- AttributeError: module 'pip' has no attribute 'main'\n",
    "    * 安装目录helpers/packaging_tool.py\n",
    "    ```\n",
    "def do_install(pkgs):\n",
    "    try:\n",
    "        # import pip\n",
    "        try:\n",
    "            from pip._internal import main\n",
    "        except Exception:\n",
    "            from pip import main\n",
    "    except ImportError:\n",
    "        error_no_pip()\n",
    "    return main(['install'] + pkgs)\n",
    "\n",
    "\n",
    "def do_uninstall(pkgs):\n",
    "    try:\n",
    "        # import pip\n",
    "        try:\n",
    "            from pip._internal import main\n",
    "        except Exception:\n",
    "            from pip import main\n",
    "    except ImportError:\n",
    "        error_no_pip()\n",
    "    return main(['uninstall', '-y'] + pkgs)\n",
    "    ```\n"
   ]
  },
  {
   "cell_type": "markdown",
   "metadata": {},
   "source": [
    "## 命名规范\n",
    "\n",
    "- 包名、模块名、局部变量名、函数名\n",
    "        全小写+下划线式驼峰\n",
    "        example：this_is_var\n",
    "- 全局变量\n",
    "        全大写+下划线式驼峰\n",
    "        example：GLOBAL_VAR\n",
    "- 类名\n",
    "        首字母大写式驼峰\n",
    "        example：ClassName()\n",
    "- 属性\n",
    "        以单下划线开头，是弱内部使用标识，from M import * 时，将不会导入该对象\n",
    "        以双下划线开头的变量名，主要用于类内部标识类私有，不能直接访问。模块中使用见上一条\n",
    "        双下划线开头且双下划线截尾的命名方法尽量不要用，这是标识"
   ]
  },
  {
   "cell_type": "code",
   "execution_count": 12,
   "metadata": {},
   "outputs": [
    {
     "name": "stdout",
     "output_type": "stream",
     "text": [
      "'内置函数'\n",
      "b'\\xe5\\x86\\x85\\xe7\\xbd\\xae\\xe5\\x87\\xbd\\xe6\\x95\\xb0'\n",
      "<class 'bytes'>\n",
      "b'\\xe5\\x86\\x85\\xe7\\xbd\\xae\\xe5\\x87\\xbd\\xe6\\x95\\xb0'\n"
     ]
    }
   ],
   "source": [
    "# 字符编码\n",
    "s='内置编码'\n",
    "print(repr(s))\n",
    "u=s.encode('utf8')\n",
    "print(u)\n",
    "print(type(u))\n",
    "print(repr(u))\n",
    "\n",
    "s='解码'\n"
   ]
  },
  {
   "cell_type": "markdown",
   "metadata": {},
   "source": [
    "## 数据结构\n",
    "\n",
    "- list\n",
    "    1. 列表当堆栈使用\n",
    "        ```\n",
    "        先进后出、后进先出\n",
    "        .append()\n",
    "        .pop()\n",
    "        ```\n",
    "    2. 列表当队列使用\n",
    "        ```\n",
    "        from collections import deque\n",
    "        queue = deque([1, 2, 3, 4, 5])\n",
    "        queue.append(6)\n",
    "        \n",
    "        -> deque([1, 2, 3, 4, 5, 6])\n",
    "        ```\n",
    "    3. 列表推导例\n",
    "        名为 x 的变量在循环完毕后依然存在 @list-3\n",
    "    4. del\n",
    "        从列表中按给定的索引而不是值来删除一个子项\n",
    "- tuple\n",
    "- set\n",
    "        集合是一个无序不重复元素的集\n",
    "        union（联合），intersection（交），difference（差）和 sysmmetric difference（对称差集）\n",
    "- dict\n",
    "        ```\n",
    "        d = {'abc': 123, 'defg': 456}\n",
    "        c = dict(abc=123, defg=456)\n",
    "        e = dict([('abc', 123), ('defg', 456)])\n",
    "\n",
    "        ```\n",
    "- 循环\n",
    "    1. item()\n",
    "    2. enumerate() 索引位置和对应值\n",
    "    3. zip()       同时循环两个或更多的序列\n",
    "    4. reversed()  逆向循环序列\n",
    "    5. sorted()    不改动原序列生成一个新\n",
    "    6. 若要在循环内部修改正在遍历的序列,建议您首先制作副本\n"
   ]
  },
  {
   "cell_type": "code",
   "execution_count": 2,
   "metadata": {
    "scrolled": true
   },
   "outputs": [
    {
     "name": "stdout",
     "output_type": "stream",
     "text": [
      "9\n",
      "[0, 1, 4, 9, 16, 25, 36, 49, 64, 81]\n",
      "[0, 1, 4, 9, 16, 25, 36, 49, 64, 81]\n",
      "[0, 1, 4, 9, 16, 25, 36, 49, 64, 81]\n"
     ]
    }
   ],
   "source": [
    "# list-3.1\n",
    "    a = []\n",
    "    for x in range(10):\n",
    "        a.append(x ** 2)\n",
    "    print(x)\n",
    "    print(a)\n",
    "\n",
    "    b = list(map(lambda y: y ** 2, range(10)))\n",
    "    print(b)\n",
    "    c = [z ** 2 for z in range(10)]\n",
    "    print(c)"
   ]
  },
  {
   "cell_type": "code",
   "execution_count": 3,
   "metadata": {},
   "outputs": [
    {
     "name": "stdout",
     "output_type": "stream",
     "text": [
      "[[1, 5, 9], [2, 6, 10], [3, 7, 11], [4, 8, 12]]\n",
      "[[1, 5, 9], [2, 6, 10], [3, 7, 11], [4, 8, 12]]\n",
      "0-->1\n",
      "0-->5\n",
      "0-->9\n",
      "1-->2\n",
      "1-->6\n",
      "1-->10\n",
      "2-->3\n",
      "2-->7\n",
      "2-->11\n",
      "3-->4\n",
      "3-->8\n",
      "3-->12\n",
      "[[1, 5, 9], [2, 6, 10], [3, 7, 11], [4, 8, 12]]\n"
     ]
    }
   ],
   "source": [
    "# list-3.2\n",
    "    matrix = [\n",
    "        [1, 2, 3, 4],\n",
    "        [5, 6, 7, 8],\n",
    "        [9, 10, 11, 12],\n",
    "    ]\n",
    "    a = [[row[i] for row in matrix] for i in range(4)]\n",
    "    print(a)\n",
    "\n",
    "    b = []\n",
    "    for i in range(4):\n",
    "        b.append([row[i] for row in matrix])\n",
    "    print(b)\n",
    "\n",
    "    c = []\n",
    "    for i in range(4):\n",
    "        d = []\n",
    "        for row in matrix:\n",
    "            print('%s-->%s' % (i, row[i]))\n",
    "            d.append(row[i])\n",
    "        c.append(d)\n",
    "    print(c)"
   ]
  },
  {
   "cell_type": "code",
   "execution_count": 7,
   "metadata": {},
   "outputs": [
    {
     "name": "stdout",
     "output_type": "stream",
     "text": [
      "{'e', 'd', 'f'}\n",
      "{'e', 'x', 'a', 'd', 'y', 'b', 'z', 'f', 'c'}\n",
      "{'c', 'a', 'b'}\n",
      "{'z', 'e', 'f', 'x', 'd', 'y'}\n"
     ]
    }
   ],
   "source": [
    "# set-1\n",
    "\n",
    "a = set('abcdef')\n",
    "b = set('abcxyz')\n",
    "c = a - b\n",
    "print(c)\n",
    "d = a | b\n",
    "print(d)\n",
    "e = a & b\n",
    "print(e)\n",
    "f = a ^ b\n",
    "print(f)"
   ]
  },
  {
   "cell_type": "markdown",
   "metadata": {},
   "source": [
    "## 函数\n",
    "\n",
    "- 作用域\n",
    "    * L local\n",
    "        局部作用域\n",
    "    * E enclosing\n",
    "        嵌套的父级函数的局部作用域，即包含此函数的上级函数的局部作用域\n",
    "    * G globa\n",
    "        全局变量，就是模块级别定义的变量\n",
    "    * B built-in\n",
    "        系统固定模块里面的变量，比如int, bytearray等\n",
    "    * 搜索变量的优先级顺序依次\n",
    "        作用域局部>外层作用域>当前模块中的全局>python内置作用域\n",
    "        L--E--G--B      \n",
    "- nonlocal\n",
    "- global\n",
    "\n",
    "- 继承\n",
    "    1. isinstance(obj,int) 检查实例类型\n",
    "            obj.__class__==int\n",
    "    2. issubclass(bool,int) 检查类继承\n",
    "    3. 搜索属性从父类继承的深度优先，左到右\n",
    "    \n",
    "- 装饰器\n",
    "    1. 区分导入时执行和运行时执行\n",
    "    2. 闭包和 nonlocal 声明\n",
    "            method=method_name()\n",
    "            method.__code__.co_freevars --> 延伸的值保存在内层函数的code属性中\n",
    "        \n",
    "            对数字、字符串、元组等不可变类型来说，只能读取，不能更新\n",
    "            例如 count = count + 1，其实会隐式创建局部变量 count。 \n",
    "            Python 3 引入了 nonlocal 声明，nonlocal 声明的变量赋予新值，闭包中保存的绑定会更新\n",
    "    3. 二级嵌套\n",
    "            当用装饰器调用函数时，返回的是一个未运行的函数,装饰器自身调用2次 @装饰器-2\n",
    "    4. 多级嵌套\n",
    "            @functools.wraps(func) 用法\n",
    "    5. 单例运用\n",
    "            字典里只放一个对象，后面不创建对象，及参数\n",
    "\n",
    "- 内置函数\n",
    "\n",
    "    1. __import__(name, globals=None, locals=None, fromlist=(), level=0) # 动态导入模块\n",
    "        ```\n",
    "        __db_type = 'Sqlite_Client'\n",
    "        __import__(__db_type)\n",
    "        \n",
    "        --> <module 'Sqlite_Client' from '/home/xxxx/Project/python/pythonSpider/db/Sqlite_Client.py'>\n",
    "            导入模块\n",
    "        ```\n",
    "    2. getattr(object, name, default=None) # 函数用于返回一个对象属性值\n",
    "        ```\n",
    "        __db_type = None\n",
    "        if 'sqlite' == self.conf.db_type:\n",
    "            __db_type = 'Sqlite_Client'\n",
    "            self.client = getattr(__import__(__db_type), 'SqliteClient')()\n",
    "            \n",
    "        --> Sqlite_Client\n",
    "            <module 'Sqlite_Client' from '/home/xxxx/Project/python/pythonSpider/db/Sqlite_Client.py'>\n",
    "            <Sqlite_Client.SqliteClient object at 0x7f96d6972e10>\n",
    "            \n",
    "            创建SqliteClien()\n",
    "        ```"
   ]
  },
  {
   "cell_type": "code",
   "execution_count": 14,
   "metadata": {},
   "outputs": [
    {
     "name": "stdout",
     "output_type": "stream",
     "text": [
      "1\n"
     ]
    }
   ],
   "source": [
    "x=int(2.9)\n",
    "g_count=0 #G\n",
    "def outer():\n",
    "    e_count=1 #E\n",
    "    def inner():\n",
    "        l_count=2 #L\n",
    "        print(e_count)\n",
    "        pass\n",
    "    inner() \n",
    "outer()\n",
    "# local和enclosing是相对的，enclosing变量相对上层来说也是local\n",
    "# def、class、lambda是可以引入新作用域的"
   ]
  },
  {
   "cell_type": "code",
   "execution_count": 6,
   "metadata": {},
   "outputs": [
    {
     "name": "stdout",
     "output_type": "stream",
     "text": [
      "run deco is <function f1 at 0x7fcad0394e18>\n",
      "run deco is <function f2 at 0x7fcad03946a8>\n",
      "main\n",
      "list [<function f1 at 0x7fcad0394e18>, <function f2 at 0x7fcad03946a8>]\n",
      "f1\n",
      "f2\n",
      "f3\n",
      "list [<function f1 at 0x7fcad0394e18>, <function f2 at 0x7fcad03946a8>]\n"
     ]
    }
   ],
   "source": [
    "# 装饰器-1\n",
    "list_a = []\n",
    "def deco(func):\n",
    "    print('run deco is {}'.format(func))\n",
    "    list_a.append(func)\n",
    "    return func\n",
    "@deco\n",
    "def f1():\n",
    "    print('f1')\n",
    "@deco\n",
    "def f2():\n",
    "    print('f2')\n",
    "def f3():\n",
    "    print('f3')\n",
    "if __name__ == '__main__':\n",
    "    \"\"\"\n",
    "    在执行main之前，导入装饰器的函数即执行装饰器\n",
    "    f3当其被调用时，才被创建\n",
    "    \"\"\"\n",
    "    print('main')\n",
    "    print('list', list_a)\n",
    "    f1()\n",
    "    f2()\n",
    "    f3()\n",
    "    print('list',list_a)"
   ]
  },
  {
   "cell_type": "code",
   "execution_count": 9,
   "metadata": {},
   "outputs": [
    {
     "name": "stdout",
     "output_type": "stream",
     "text": [
      "4\n",
      "8\n"
     ]
    }
   ],
   "source": [
    "# 装饰器-2\n",
    "\n",
    "def local_count_error():\n",
    "    count=2\n",
    "    def nonlocal_count(value):\n",
    "        count+=value\n",
    "        return count\n",
    "    return nonlocal_count\n",
    "\n",
    "def local_count():\n",
    "    count=2\n",
    "    def nonlocal_count(value):\n",
    "        nonlocal count\n",
    "        count+=value\n",
    "        return count\n",
    "    return nonlocal_count\n",
    "if __name__=='__main__':\n",
    "    c=local_count()\n",
    "    print(c(2))\n",
    "    print(c(4))"
   ]
  },
  {
   "cell_type": "code",
   "execution_count": 7,
   "metadata": {},
   "outputs": [
    {
     "name": "stdout",
     "output_type": "stream",
     "text": [
      "method is running 0\n",
      "method is running 1\n",
      "method is running 2\n",
      "it is ok\n",
      "three->tag run_time running 3.002363443374634\n",
      "run_time\n"
     ]
    }
   ],
   "source": [
    "# 装饰器-3\n",
    "\n",
    "import time\n",
    "import functools\n",
    "\n",
    "def logger(func):\n",
    "    def wrapper(*args, **kwargs):\n",
    "        start = time.time()\n",
    "        f = func(*args, **kwargs)\n",
    "        end = time.time()\n",
    "        print('{} running time --> {}'.format(func.__name__, end - start))\n",
    "        return f\n",
    "    return wrapper\n",
    "\n",
    "def logger(txt):\n",
    "    def decorator(func):\n",
    "        @functools.wraps(func)\n",
    "        def wrapper(*args, **kwargs):\n",
    "            start = time.time()\n",
    "            f = func(*args, **kwargs)\n",
    "            end = time.time()\n",
    "            print('{}->tag {} running {}'.format(txt, func.__name__, end - start))\n",
    "            return f\n",
    "\n",
    "        return wrapper\n",
    "\n",
    "    return decorator\n",
    "\n",
    "@logger('three')\n",
    "def run_time():\n",
    "    for i in range(3):\n",
    "        print('method is running {}'.format(i))\n",
    "        time.sleep(1)\n",
    "    print('it is ok')\n",
    "    \n",
    "if __name__=='__main__':\n",
    "    run=run_time()\n",
    "    \n",
    "#     log=logger(run_time)\n",
    "#     log()\n",
    "    \n",
    "    log_t=logger('log')(run_time)\n",
    "    print(log_t.__name__)\n",
    "    "
   ]
  },
  {
   "cell_type": "code",
   "execution_count": null,
   "metadata": {},
   "outputs": [],
   "source": [
    "# 装饰器-5\n",
    "\n",
    "def singleton_class(cls):\n",
    "    \"\"\"\n",
    "    构建单例方法\n",
    "    :param cls:\n",
    "    :return:\n",
    "    \"\"\"\n",
    "    instance = dict()\n",
    "    @functools.wraps(cls)\n",
    "    def get_instance(*args, **kwargs):\n",
    "        if cls not in instance:\n",
    "            instance[cls] = cls(*args, **kwargs)\n",
    "        return instance[cls]\n",
    "\n",
    "    return get_instance\n",
    "\n",
    "\n",
    "@singleton_class\n",
    "class WantSingle(object):\n",
    "    def __init__(self, num):\n",
    "        self.num = num"
   ]
  },
  {
   "cell_type": "markdown",
   "metadata": {},
   "source": [
    "## Process\n",
    "\n"
   ]
  },
  {
   "cell_type": "markdown",
   "metadata": {},
   "source": [
    "## Thread\n",
    "\n"
   ]
  },
  {
   "cell_type": "markdown",
   "metadata": {},
   "source": [
    "## 异常\n",
    "\n",
    "- raise\n",
    "    1. raise Class\n",
    "        Class 必须是 type 或其派生类的一个实例\n",
    "    2. raise Class()"
   ]
  },
  {
   "cell_type": "markdown",
   "metadata": {},
   "source": [
    "## IO\n",
    "\n",
    "* 用户空间\n",
    "* 内核空间\n",
    "* 进程切换\n",
    "* 进程阻塞"
   ]
  },
  {
   "cell_type": "markdown",
   "metadata": {},
   "source": [
    "## Spider\n",
    "\n",
    "- uillib.request\n",
    "        自带的库\n",
    "- beautifulsoup4        \n",
    "- Selenium\n",
    "\n",
    "- PhantomJS\n",
    "\n",
    "        [PhantomJS官方地址](http://phantomjs.org/)\n",
    "        [PhantomJS官方API](http://phantomjs.org/api/)\n",
    "        [PhantomJS官方示例](http://phantomjs.org/examples/)\n",
    "        [PhantomJS GitHub](https://github.com/ariya/phantomjs/)\n"
   ]
  },
  {
   "cell_type": "markdown",
   "metadata": {},
   "source": [
    "## requests"
   ]
  },
  {
   "cell_type": "markdown",
   "metadata": {},
   "source": [
    "## Jinja2"
   ]
  },
  {
   "cell_type": "markdown",
   "metadata": {},
   "source": [
    "## pandas"
   ]
  },
  {
   "cell_type": "markdown",
   "metadata": {},
   "source": [
    "## Numpy"
   ]
  },
  {
   "cell_type": "code",
   "execution_count": null,
   "metadata": {},
   "outputs": [],
   "source": [
    "OpenStack架构、原理及其主要模块Nova，Cinder\n",
    "了解常见的云平台备份技术及方案，如：freezer、smaug、snapshot等\n",
    "一种主流的虚拟化平台，如：libvirt、qemu、kvm\n"
   ]
  }
 ],
 "metadata": {
  "kernelspec": {
   "display_name": "Python 3",
   "language": "python",
   "name": "python3"
  },
  "language_info": {
   "codemirror_mode": {
    "name": "ipython",
    "version": 3
   },
   "file_extension": ".py",
   "mimetype": "text/x-python",
   "name": "python",
   "nbconvert_exporter": "python",
   "pygments_lexer": "ipython3",
   "version": "3.6.5"
  }
 },
 "nbformat": 4,
 "nbformat_minor": 2
}
