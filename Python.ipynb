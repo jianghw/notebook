{
 "cells": [
  {
   "cell_type": "markdown",
   "metadata": {},
   "source": [
    "### 类\n",
    "\n",
    "* 对象的or类的 数据成员\n"
   ]
  },
  {
   "cell_type": "code",
   "execution_count": 3,
   "metadata": {},
   "outputs": [
    {
     "name": "stdout",
     "output_type": "stream",
     "text": [
      "10000\n",
      "20000\n",
      "20000\n",
      "20000\n"
     ]
    }
   ],
   "source": [
    "class Car(object):\n",
    "    price=10000\n",
    "    def __init__(self,color):\n",
    "        self.color=color\n",
    "        \n",
    "    def get_price():\n",
    "        return price\n",
    "        \n",
    "car_1=Car('red')\n",
    "car_2=Car('blue')\n",
    "print(Car.price)\n",
    "Car.price=20000\n",
    "print(car_1.price)\n",
    "print(car_2.price)\n",
    "print(Car.price)\n"
   ]
  }
 ],
 "metadata": {
  "kernelspec": {
   "display_name": "Python 3",
   "language": "python",
   "name": "python3"
  },
  "language_info": {
   "codemirror_mode": {
    "name": "ipython",
    "version": 3
   },
   "file_extension": ".py",
   "mimetype": "text/x-python",
   "name": "python",
   "nbconvert_exporter": "python",
   "pygments_lexer": "ipython3",
   "version": "3.6.5"
  }
 },
 "nbformat": 4,
 "nbformat_minor": 2
}
