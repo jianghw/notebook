{
 "cells": [
  {
   "cell_type": "markdown",
   "metadata": {},
   "source": [
    "### 作用域\n",
    "            \n",
    "            python的搜索顺序是:   \n",
    "            先是在函数内部的本地作用域(L)   \n",
    "            然后是在上一层的函数的本地作用域(E)   \n",
    "            然后是全局作用域(G)   \n",
    "            最后是内置作用域(B)   \n",
    "- 变量\n",
    "    * 局部变量\n",
    "        > 1-1   \n",
    "        赋值之前引用了局部变量b=6   \n",
    "        有全局变量声明b=5\n",
    "        \n",
    "    * 全局变量\n",
    "        > 1-2   \n",
    "        声明global\n",
    "    \n",
    "- 对象\n",
    "\n",
    "- 闭包\n",
    "        闭包是由函数与其相关的引用环境组合而成的实体\n",
    "        引用环境，在执行运行的某个时间点，所有处于活跃状态的变量所组成的集合\n",
    "        函数可以作为另外一个函数的返回值 或者 参数 ，还可以作为一个 变量的值\n",
    "        \n",
    "    * 自由变量   \n",
    "        未在本地作用域绑定的变量   \n",
    "      均布变量   \n",
    "        > 3-2\n",
    "        \n",
    "    * nonlocal   \n",
    "        > 3-3   \n",
    "        闭包中count和total是数字，是不可变类型，而之前的例子中series是一个列表是可变类型   \n",
    "        count += 1的时候是count = count + 1,在averager函数定义体中对count进行赋值，count变成局部变量   \n",
    "        关键词nonlocal，通过它把变量标记为自由变量   \n",
    "        "
   ]
  },
  {
   "cell_type": "code",
   "execution_count": 5,
   "metadata": {},
   "outputs": [
    {
     "name": "stdout",
     "output_type": "stream",
     "text": [
      "10\n"
     ]
    },
    {
     "ename": "UnboundLocalError",
     "evalue": "local variable 'b' referenced before assignment",
     "output_type": "error",
     "traceback": [
      "\u001b[0;31m---------------------------------------------------------------------------\u001b[0m",
      "\u001b[0;31mUnboundLocalError\u001b[0m                         Traceback (most recent call last)",
      "\u001b[0;32m<ipython-input-5-5fe454db4760>\u001b[0m in \u001b[0;36m<module>\u001b[0;34m()\u001b[0m\n\u001b[1;32m      5\u001b[0m     \u001b[0mb\u001b[0m\u001b[0;34m=\u001b[0m\u001b[0;36m6\u001b[0m\u001b[0;34m\u001b[0m\u001b[0m\n\u001b[1;32m      6\u001b[0m \u001b[0;34m\u001b[0m\u001b[0m\n\u001b[0;32m----> 7\u001b[0;31m \u001b[0mfunc\u001b[0m\u001b[0;34m(\u001b[0m\u001b[0;36m10\u001b[0m\u001b[0;34m)\u001b[0m\u001b[0;34m\u001b[0m\u001b[0m\n\u001b[0m",
      "\u001b[0;32m<ipython-input-5-5fe454db4760>\u001b[0m in \u001b[0;36mfunc\u001b[0;34m(a)\u001b[0m\n\u001b[1;32m      2\u001b[0m \u001b[0;32mdef\u001b[0m \u001b[0mfunc\u001b[0m\u001b[0;34m(\u001b[0m\u001b[0ma\u001b[0m\u001b[0;34m)\u001b[0m\u001b[0;34m:\u001b[0m\u001b[0;34m\u001b[0m\u001b[0m\n\u001b[1;32m      3\u001b[0m     \u001b[0mprint\u001b[0m\u001b[0;34m(\u001b[0m\u001b[0ma\u001b[0m\u001b[0;34m)\u001b[0m\u001b[0;34m\u001b[0m\u001b[0m\n\u001b[0;32m----> 4\u001b[0;31m     \u001b[0mprint\u001b[0m\u001b[0;34m(\u001b[0m\u001b[0mb\u001b[0m\u001b[0;34m)\u001b[0m\u001b[0;34m\u001b[0m\u001b[0m\n\u001b[0m\u001b[1;32m      5\u001b[0m     \u001b[0mb\u001b[0m\u001b[0;34m=\u001b[0m\u001b[0;36m6\u001b[0m\u001b[0;34m\u001b[0m\u001b[0m\n\u001b[1;32m      6\u001b[0m \u001b[0;34m\u001b[0m\u001b[0m\n",
      "\u001b[0;31mUnboundLocalError\u001b[0m: local variable 'b' referenced before assignment"
     ]
    }
   ],
   "source": [
    "# 1-1\n",
    "def func(a):\n",
    "    print(a)\n",
    "    print(b)\n",
    "    b=6\n",
    "    \n",
    "b=5\n",
    "func(10)"
   ]
  },
  {
   "cell_type": "code",
   "execution_count": 7,
   "metadata": {},
   "outputs": [
    {
     "name": "stdout",
     "output_type": "stream",
     "text": [
      "10\n",
      "20\n",
      "30\n"
     ]
    }
   ],
   "source": [
    "# 1-2\n",
    "def func(a):\n",
    "    global b\n",
    "    print(a)\n",
    "    print(b)\n",
    "    b=30\n",
    "    \n",
    "b=20\n",
    "func(10)\n",
    "print(b)"
   ]
  },
  {
   "cell_type": "code",
   "execution_count": 14,
   "metadata": {},
   "outputs": [
    {
     "name": "stdout",
     "output_type": "stream",
     "text": [
      "10.0\n",
      "15.0\n",
      "20.0\n",
      "['__call__', '__class__', '__delattr__', '__dict__', '__dir__', '__doc__', '__eq__', '__format__', '__ge__', '__getattribute__', '__gt__', '__hash__', '__init__', '__init_subclass__', '__le__', '__lt__', '__module__', '__ne__', '__new__', '__reduce__', '__reduce_ex__', '__repr__', '__setattr__', '__sizeof__', '__str__', '__subclasshook__', '__weakref__', 'series']\n"
     ]
    }
   ],
   "source": [
    "# 3-1\n",
    "class Averager(object):\n",
    "    def __init__(self):\n",
    "        self.series=[]\n",
    "        \n",
    "    def __call__(self,value):\n",
    "        self.series.append(value)\n",
    "        total=sum(self.series)\n",
    "        return total/len(self.series) \n",
    "    \n",
    "age=Averager()\n",
    "print(age(10))\n",
    "print(age(20))\n",
    "print(age(30))\n",
    "print(dir(age))"
   ]
  },
  {
   "cell_type": "code",
   "execution_count": 7,
   "metadata": {},
   "outputs": [
    {
     "name": "stdout",
     "output_type": "stream",
     "text": [
      "10.0\n",
      "15.0\n",
      "20.0\n",
      "['__annotations__', '__call__', '__class__', '__closure__', '__code__', '__defaults__', '__delattr__', '__dict__', '__dir__', '__doc__', '__eq__', '__format__', '__ge__', '__get__', '__getattribute__', '__globals__', '__gt__', '__hash__', '__init__', '__init_subclass__', '__kwdefaults__', '__le__', '__lt__', '__module__', '__name__', '__ne__', '__new__', '__qualname__', '__reduce__', '__reduce_ex__', '__repr__', '__setattr__', '__sizeof__', '__str__', '__subclasshook__']\n",
      "('value', 'total')\n",
      "('series',)\n",
      "(<cell at 0x7f0d3022bac8: list object at 0x7f0d301c8b88>,)\n",
      "[10, 20, 30]\n"
     ]
    }
   ],
   "source": [
    "# 3-2\n",
    "def make_averager():\n",
    "    series=[]\n",
    "    def averager(value):\n",
    "        series.append(value)\n",
    "        total=sum(series)\n",
    "        return total/len(series)\n",
    "    return averager\n",
    "\n",
    "age=make_averager()\n",
    "print(age(10))\n",
    "print(age(20))\n",
    "print(age(30))\n",
    "print(dir(age))\n",
    "\n",
    "print(age.__code__.co_varnames)\n",
    "print(age.__code__.co_freevars)\n",
    "print(age.__closure__)\n",
    "print(age.__closure__[0].cell_contents)"
   ]
  },
  {
   "cell_type": "code",
   "execution_count": 6,
   "metadata": {},
   "outputs": [
    {
     "name": "stdout",
     "output_type": "stream",
     "text": [
      "20.0\n",
      "25.0\n"
     ]
    }
   ],
   "source": [
    "# 3-3\n",
    "def make_averager():\n",
    "    count=0\n",
    "    total=0\n",
    "    def averager(value):\n",
    "        #nonlocal count,total\n",
    "        count+=1\n",
    "        total+=value\n",
    "        return total/count\n",
    "    return averager\n",
    "\n",
    "age=make_averager()\n",
    "print(age(20))\n",
    "print(age(30))"
   ]
  },
  {
   "cell_type": "markdown",
   "metadata": {},
   "source": [
    "### 类\n",
    "\n",
    "1. 类的入门\n",
    "2. 类的定义 类的实例\n",
    "        新型和旧类\n",
    "3. 类的初始化\n",
    "        注意__init__()不是类的构造函数，只是用来做初始化的\n",
    "4. 类的删除\n",
    "        __del__()\n",
    "5. 类的属性\n",
    "6. 类的方法\n",
    "    - 类的实例方法\n",
    "    - 类的静态方法   \n",
    "        @staticmethod   \n",
    "        不带self   \n",
    "    - 类方法   \n",
    "        只在类中运行而不在实例中运行的方法   \n",
    "        @classmethod\n",
    "        \n",
    "    - 类方法,静态函数,实例方法之间调用关系\n",
    "\n",
    "7. 子类初始化\n",
    "        若父类Car是经典类,子类的初始化的时候,用传统的调用直接用父类调用__init__()\n",
    "        若父类Car是新式类,super()会带两个参数，第一个是子类的类名，第二个是self参数\n",
    "8. 子类继承\n",
    "        经典类中MRO搜索采用简单的从左到右的深度优先顺序\n",
    "        super()可以保证菱形顶部的公共基类的__init__()方法只会运行一次\n",
    "        新式类是广度优先\n",
    "9. 子类重载\n",
    "\n"
   ]
  },
  {
   "cell_type": "code",
   "execution_count": null,
   "metadata": {},
   "outputs": [],
   "source": [
    "# 2-1\n",
    "class OldStyle:\n",
    "    '''经典类'''\n",
    "    pass\n",
    "class NewStyle(object):\n",
    "    '''新式类'''\n",
    "    pass"
   ]
  },
  {
   "cell_type": "code",
   "execution_count": null,
   "metadata": {},
   "outputs": [],
   "source": [
    "# 7-1\n",
    "class Car:\n",
    "    def __init__(self,model,year):\n",
    "        pass\n",
    "class ColorCar(Car):\n",
    "    def __init__(self,model,year):\n",
    "        Car.__init__(self,model,year)"
   ]
  },
  {
   "cell_type": "code",
   "execution_count": null,
   "metadata": {},
   "outputs": [],
   "source": [
    "# 7-2\n",
    "class Car(object):\n",
    "    def __init__(self,model,year):\n",
    "        pass\n",
    "class RedCar(Car):\n",
    "    def __init__(self,model,year):\n",
    "        super(RedCar,self).__init__(model,year)"
   ]
  },
  {
   "cell_type": "code",
   "execution_count": 11,
   "metadata": {},
   "outputs": [
    {
     "name": "stdout",
     "output_type": "stream",
     "text": [
      "A --> 1\n",
      "B --> 10\n",
      "C --> 110\n",
      "D --> 110\n",
      "A --> 1\n",
      "C --> 101\n",
      "B --> 1010\n",
      "E --> 1010\n",
      "A --> 1\n",
      "B --> 10\n",
      "C --> 110\n",
      "F --> 110\n",
      "[<class '__main__.D'>,\n",
      " <class '__main__.A'>,\n",
      " <class '__main__.B'>,\n",
      " <class '__main__.C'>,\n",
      " <class 'object'>]\n",
      "[<class '__main__.F'>,\n",
      " <class '__main__.A'>,\n",
      " <class '__main__.C'>,\n",
      " <class '__main__.B'>,\n",
      " <class 'object'>]\n"
     ]
    }
   ],
   "source": [
    "# 8-1\n",
    "'''去除A 则self.value将不存在'''\n",
    "class A(object):\n",
    "    def __init__(self,value):\n",
    "        self.value=value\n",
    "        print(\"A --> {}\".format(self.value))\n",
    "        \n",
    "class B(object):\n",
    "    def __init__(self):\n",
    "        self.value*=10\n",
    "        print(\"B --> {}\".format(self.value))\n",
    "        \n",
    "class C(object):\n",
    "    def __init__(self):\n",
    "        self.value+=100\n",
    "        print(\"C --> {}\".format(self.value))\n",
    "        \n",
    "class D(A,B,C):\n",
    "    def __init__(self,value):\n",
    "        A.__init__(self,value)\n",
    "        B.__init__(self)\n",
    "        C.__init__(self)\n",
    "        print(\"D --> {}\".format(self.value))\n",
    "        \n",
    "'''多重继承的顺序的实例'''    \n",
    "class E(A,B,C):\n",
    "    def __init__(self,value):\n",
    "        A.__init__(self,value)\n",
    "        C.__init__(self)\n",
    "        B.__init__(self)\n",
    "        print(\"E --> {}\".format(self.value))\n",
    "        \n",
    "class F(A,C,B):\n",
    "    def __init__(self,value):\n",
    "        A.__init__(self,value)\n",
    "        B.__init__(self)\n",
    "        C.__init__(self)\n",
    "        print(\"F --> {}\".format(self.value))\n",
    "        \n",
    "d=D(1)\n",
    "e=E(1)\n",
    "f=F(1)\n",
    "\n",
    "from pprint import pprint\n",
    "pprint(D.mro())\n",
    "pprint(F.mro())"
   ]
  },
  {
   "cell_type": "code",
   "execution_count": 30,
   "metadata": {},
   "outputs": [
    {
     "name": "stdout",
     "output_type": "stream",
     "text": [
      "A --> 1\n",
      "G --> 4\n",
      "J --> 4\n",
      "[<class '__main__.J'>,\n",
      " <class '__main__.H'>,\n",
      " <class '__main__.G'>,\n",
      " <class '__main__.A'>,\n",
      " <class 'object'>]\n"
     ]
    }
   ],
   "source": [
    "# 8-2\n",
    "'''\n",
    "使用旧版继承，基础类A.__init__ 会调用多次\n",
    "A --> 1\n",
    "H --> 11\n",
    "A --> 1\n",
    "G --> 4\n",
    "J --> 4\n",
    "JHGA：先左后右，H-G\n",
    "\n",
    "注掉G.init\n",
    "A --> 1\n",
    "H --> 11\n",
    "J --> 11\n",
    "JHGA：左右\n",
    "\n",
    "再改H.init--->super()\n",
    "A --> 1\n",
    "G --> 4\n",
    "H --> 14\n",
    "J --> 14\n",
    "JHGA：深度优先即G执行，H为super()也可执行\n",
    "\n",
    "注掉H.init\n",
    "A --> 1\n",
    "G --> 4\n",
    "J --> 4\n",
    "JHGA：左右\n",
    "\n",
    "再改G.init--->super()\n",
    "A --> 1\n",
    "G --> 4\n",
    "J --> 4\n",
    "JHGA：深度优先G执行，H没有init\n",
    "注意关键的地方来了，所有的初始化方法会按照跟那些__init__()相反的顺序来运行\n",
    "'''\n",
    "class A(object):\n",
    "    def __init__(self,value):\n",
    "        self.value=value\n",
    "        print(\"A --> {}\".format(self.value))\n",
    "        \n",
    "class G(A):\n",
    "    def __init__(self,value):\n",
    "#         A.__init__(self,value)\n",
    "        super(G,self).__init__(value)\n",
    "        self.value*=4\n",
    "        print(\"G --> {}\".format(self.value))\n",
    "        \n",
    "class H(A):\n",
    "    def __init__(self,value):\n",
    "        A.__init__(self,value)\n",
    "#         super(H,self).__init__(value)\n",
    "        self.value+=10\n",
    "        print(\"H --> {}\".format(self.value))\n",
    "        \n",
    "class J(H,G):\n",
    "    def __init__(self,value):\n",
    "#         H.__init__(self,value)\n",
    "        G.__init__(self,value)\n",
    "        print(\"J --> {}\".format(self.value))\n",
    "        \n",
    "j=J(1)\n",
    "from pprint import pprint\n",
    "pprint(J.mro())"
   ]
  },
  {
   "cell_type": "code",
   "execution_count": 36,
   "metadata": {},
   "outputs": [
    {
     "name": "stdout",
     "output_type": "stream",
     "text": [
      "A --> 1\n",
      "H --> 11\n",
      "I --> 11\n",
      "[<class '__main__.I'>,\n",
      " <class '__main__.H'>,\n",
      " <class '__main__.G'>,\n",
      " <class '__main__.A'>,\n",
      " <class 'object'>]\n"
     ]
    }
   ],
   "source": [
    "# 8-3\n",
    "'''\n",
    "全super()只执行一次\n",
    "A --> 1\n",
    "G --> 4\n",
    "H --> 14\n",
    "I --> 14\n",
    "\n",
    "G.super(),H.init\n",
    "A --> 1\n",
    "H --> 11\n",
    "I --> 11\n",
    "IHGA:有init,左开始，H执行。G时因super,A不再执行\n",
    "\n",
    "G.init,H.super()\n",
    "A --> 1\n",
    "G --> 4\n",
    "H --> 14\n",
    "I --> 14\n",
    "IHGA:执行广度优先\n",
    "'''\n",
    "class A(object):\n",
    "    def __init__(self,value):\n",
    "        self.value=value\n",
    "        print(\"A --> {}\".format(self.value))\n",
    "        \n",
    "class G(A):\n",
    "    def __init__(self,value):\n",
    "        super(G,self).__init__(value)\n",
    "#         A.__init__(self,value)\n",
    "        self.value*=4\n",
    "        print(\"G --> {}\".format(self.value))\n",
    "        \n",
    "class H(A):\n",
    "    def __init__(self,value):\n",
    "#         super(H,self).__init__(value)\n",
    "        A.__init__(self,value)\n",
    "        self.value+=10\n",
    "        print(\"H --> {}\".format(self.value))\n",
    "        \n",
    "class I(H,G):\n",
    "    def __init__(self,value):\n",
    "        super(I,self).__init__(value)\n",
    "        print(\"I --> {}\".format(self.value))\n",
    "        \n",
    "i=I(1)\n",
    "from pprint import pprint\n",
    "pprint(I.mro())"
   ]
  },
  {
   "cell_type": "markdown",
   "metadata": {},
   "source": [
    "### 迭代器\n",
    "\n",
    "1. 对象是否是迭代器\n",
    "    - isinstance()\n",
    "        可迭代对象不一定是迭代器\n",
    "        1-1\n",
    "    - next()\n",
    "    - iter()\n",
    "        将某对象转为一个迭代器\n",
    "        \n",
    "2. 生成器\n",
    "    - generator\n",
    "        创建生成器方式\n",
    "    - yield\n",
    "        函数\n",
    "    "
   ]
  },
  {
   "cell_type": "code",
   "execution_count": 28,
   "metadata": {},
   "outputs": [
    {
     "name": "stdout",
     "output_type": "stream",
     "text": [
      "a is <class 'list'>\n",
      "b is <class 'generator'>\n",
      "a--> 1\n",
      "b--> 1\n",
      "a--> 1\n",
      "b--> 2\n",
      "a--> 2\n",
      "b--> 3\n",
      "a--> 3\n",
      "b--> 5\n"
     ]
    },
    {
     "data": {
      "text/plain": [
       "5"
      ]
     },
     "execution_count": 28,
     "metadata": {},
     "output_type": "execute_result"
    }
   ],
   "source": [
    "# ex 2-1\n",
    "\n",
    "a=[x**2 for x in range(5)]\n",
    "print('a is {}'.format(type(a)))\n",
    "b=(x**2 for x in range(5))\n",
    "print('b is {}'.format(type(b)))\n",
    "\n",
    "def scq(n):\n",
    "    if n==0:\n",
    "        return n\n",
    "    a,b=0,1\n",
    "    for i in range(n):\n",
    "        a,b=b,a+b\n",
    "        print('a--> {}'.format(a))\n",
    "        print('b--> {}'.format(b))\n",
    "    return b\n",
    "\n",
    "scq(4)"
   ]
  },
  {
   "cell_type": "code",
   "execution_count": 2,
   "metadata": {},
   "outputs": [
    {
     "ename": "Exception",
     "evalue": "最多",
     "output_type": "error",
     "traceback": [
      "\u001b[0;31m---------------------------------------------------------------------------\u001b[0m",
      "\u001b[0;31mException\u001b[0m                                 Traceback (most recent call last)",
      "\u001b[0;32m<ipython-input-2-977074278db6>\u001b[0m in \u001b[0;36m<module>\u001b[0;34m()\u001b[0m\n\u001b[1;32m     12\u001b[0m \u001b[0mt1\u001b[0m\u001b[0;34m=\u001b[0m\u001b[0mDemo\u001b[0m\u001b[0;34m(\u001b[0m\u001b[0;34m)\u001b[0m\u001b[0;34m\u001b[0m\u001b[0m\n\u001b[1;32m     13\u001b[0m \u001b[0mt2\u001b[0m\u001b[0;34m=\u001b[0m\u001b[0mDemo\u001b[0m\u001b[0;34m(\u001b[0m\u001b[0;34m)\u001b[0m\u001b[0;34m\u001b[0m\u001b[0m\n\u001b[0;32m---> 14\u001b[0;31m \u001b[0mt3\u001b[0m\u001b[0;34m=\u001b[0m\u001b[0mDemo\u001b[0m\u001b[0;34m(\u001b[0m\u001b[0;34m)\u001b[0m\u001b[0;34m\u001b[0m\u001b[0m\n\u001b[0m",
      "\u001b[0;32m<ipython-input-2-977074278db6>\u001b[0m in \u001b[0;36m__new__\u001b[0;34m(cls, *args, **kwargs)\u001b[0m\n\u001b[1;32m      4\u001b[0m     \u001b[0;32mdef\u001b[0m \u001b[0m__new__\u001b[0m\u001b[0;34m(\u001b[0m\u001b[0mcls\u001b[0m\u001b[0;34m,\u001b[0m\u001b[0;34m*\u001b[0m\u001b[0margs\u001b[0m\u001b[0;34m,\u001b[0m\u001b[0;34m**\u001b[0m\u001b[0mkwargs\u001b[0m\u001b[0;34m)\u001b[0m\u001b[0;34m:\u001b[0m\u001b[0;34m\u001b[0m\u001b[0m\n\u001b[1;32m      5\u001b[0m         \u001b[0;32mif\u001b[0m \u001b[0mcls\u001b[0m\u001b[0;34m.\u001b[0m\u001b[0mtotal\u001b[0m\u001b[0;34m>=\u001b[0m\u001b[0;36m2\u001b[0m\u001b[0;34m:\u001b[0m\u001b[0;34m\u001b[0m\u001b[0m\n\u001b[0;32m----> 6\u001b[0;31m             \u001b[0;32mraise\u001b[0m \u001b[0mException\u001b[0m\u001b[0;34m(\u001b[0m\u001b[0;34m'最多'\u001b[0m\u001b[0;34m)\u001b[0m\u001b[0;34m\u001b[0m\u001b[0m\n\u001b[0m\u001b[1;32m      7\u001b[0m         \u001b[0;32melse\u001b[0m\u001b[0;34m:\u001b[0m\u001b[0;34m\u001b[0m\u001b[0m\n\u001b[1;32m      8\u001b[0m             \u001b[0;32mreturn\u001b[0m \u001b[0mobject\u001b[0m\u001b[0;34m.\u001b[0m\u001b[0m__new__\u001b[0m\u001b[0;34m(\u001b[0m\u001b[0mcls\u001b[0m\u001b[0;34m)\u001b[0m\u001b[0;34m\u001b[0m\u001b[0m\n",
      "\u001b[0;31mException\u001b[0m: 最多"
     ]
    }
   ],
   "source": [
    "# 1-1\n",
    "class Demo(object):\n",
    "    total=0\n",
    "    \n",
    "    def __new__(cls,*args,**kwargs):\n",
    "        if cls.total>=2:\n",
    "            raise Exception('最多')\n",
    "        else:\n",
    "            return object.__new__(cls)\n",
    "        \n",
    "    def __init__(self):\n",
    "        Demo.total=Demo.total+1\n",
    "t1=Demo()\n",
    "t2=Demo()\n",
    "t3=Demo()"
   ]
  },
  {
   "cell_type": "markdown",
   "metadata": {},
   "source": [
    "### 协程\n",
    "\n",
    "- yield\n",
    "    * datum = yield,可以产出值,yield关键字后面没有表达式,生成器产出None\n",
    "    * 调用方是通过send(datum)的方式把数据提供给协程使用\n",
    "    * next(...)当激活生成器后，程序会停在yield这里,但并没有给x赋值\n",
    "    * 协程在运行过程中有四个状态\n",
    "    @ 1-1\n",
    "        ```\n",
    "            GEN_CREATE:等待开始执行\n",
    "            GEN_RUNNING:解释器正在执行，这个状态一般看不到\n",
    "            GEN_SUSPENDED:在yield表达式处暂停\n",
    "            GEN_CLOSED:执行结束\n",
    "        ```\n",
    "\n",
    "- yield from\n",
    "    @ 1-2"
   ]
  },
  {
   "cell_type": "code",
   "execution_count": 41,
   "metadata": {},
   "outputs": [
    {
     "name": "stdout",
     "output_type": "stream",
     "text": [
      "->start a= 0\n",
      "->received b= 15\n"
     ]
    },
    {
     "data": {
      "text/plain": [
       "15"
      ]
     },
     "execution_count": 41,
     "metadata": {},
     "output_type": "execute_result"
    }
   ],
   "source": [
    "# 1-1\n",
    "def simple_core(a):\n",
    "    print('->start a=',a)\n",
    "    b=yield a\n",
    "    print('->received b=',b)\n",
    "    c=yield a+b\n",
    "    print('->received c=',c)\n",
    "#     d=yield a+b+c\n",
    "    \n",
    "abc=simple_core(100)\n",
    "from inspect import getgeneratorstate\n",
    "getgeneratorstate(abc)#查看状态\n",
    "next(abc)\n",
    "getgeneratorstate(abc)\n",
    "abc.send(15)\n",
    "# getgeneratorstate(abc)\n",
    "# abc.send(20)\n",
    "# getgeneratorstate(abc)"
   ]
  },
  {
   "cell_type": "code",
   "execution_count": 44,
   "metadata": {},
   "outputs": [],
   "source": [
    "data={\n",
    "    'girls;kg':[40.9, 38.5, 44.3, 42.2, 45.2, 41.7, 44.5, 38.0, 40.6, 44.5],\n",
    "    'girls;m':[1.6, 1.51, 1.4, 1.3, 1.41, 1.39, 1.33, 1.46, 1.45, 1.43],\n",
    "    'boys;kg':[39.0, 40.8, 43.2, 40.8, 43.1, 38.6, 41.4, 40.6, 36.3],\n",
    "    'boys;m':[1.38, 1.5, 1.32, 1.25, 1.37, 1.48, 1.25, 1.49, 1.46],\n",
    "}\n",
    "\n",
    "from collections import namedtuple\n",
    "Result=namedtuple('Result',['count','average'])\n",
    "\n",
    "def averager():\n",
    "    total=0.0\n",
    "    count=0\n",
    "    average=None\n",
    "    while True:\n",
    "        term=yield\n",
    "        if term is None:\n",
    "            break\n",
    "        total+=term\n",
    "        count+=1\n",
    "        average=total/count\n",
    "    return Result(count,average)\n",
    "\n",
    "def grouper(results,key):\n",
    "    while True:\n",
    "        results[key]=yield from averager()\n",
    "        \n",
    "def report(results):\n",
    "    for key,value in sorted(results.items()):\n",
    "        group,unit=key.split(';')\n",
    "        print('{} {} averageing--> {} {}'.format(value.count,group,value.average,unit))\n",
    "        print('{:2} {:5} averageing--> {:.2f} {}'.format(value.count,group,value.average,unit))\n",
    "        print('--------------------------------')\n",
    "\n",
    "def main(data):\n",
    "    results={}\n",
    "    for key,values in data.items():\n",
    "        group=grouper(results,key)\n",
    "        next(group)\n",
    "        for value in values:\n",
    "            group.send(value)\n",
    "        group.send(None)\n",
    "    report(results)\n",
    "        \n",
    "\n",
    "if __name__=='__main__':\n",
    "    main(data)"
   ]
  }
 ],
 "metadata": {
  "kernelspec": {
   "display_name": "Python 3",
   "language": "python",
   "name": "python3"
  },
  "language_info": {
   "codemirror_mode": {
    "name": "ipython",
    "version": 3
   },
   "file_extension": ".py",
   "mimetype": "text/x-python",
   "name": "python",
   "nbconvert_exporter": "python",
   "pygments_lexer": "ipython3",
   "version": "3.6.5"
  }
 },
 "nbformat": 4,
 "nbformat_minor": 2
}
