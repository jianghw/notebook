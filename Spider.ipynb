{
 "cells": [
  {
   "cell_type": "markdown",
   "metadata": {},
   "source": [
    "# Spider"
   ]
  },
  {
   "cell_type": "markdown",
   "metadata": {},
   "source": [
    "## urllib\n",
    "\n",
    "- chardet # 识别html编码\n",
    "\n",
    "- request\n",
    "    - urlopen\n",
    "    - parse.urlencode()\n",
    "- response\n",
    "    - json.loads()\n",
    "- error\n",
    "    - error.URLError\n",
    "    - error.HTTPError\n",
    "- Proxy\n",
    "    - ProxyHandler\n",
    "    - Opener"
   ]
  },
  {
   "cell_type": "markdown",
   "metadata": {},
   "source": [
    "## ConfigParser\n",
    "\n",
    "        '''\n",
    "        config=ConfigParser()\n",
    "        config.read(file_name,encoding='utf-8')\n",
    "        '''\n",
    "        \n",
    "        "
   ]
  },
  {
   "cell_type": "markdown",
   "metadata": {},
   "source": [
    "## requests\n",
    "\n",
    "[学习文档](http://docs.python-requests.org/zh_CN/latest/user/quickstart.html)\n"
   ]
  },
  {
   "cell_type": "markdown",
   "metadata": {},
   "source": [
    "## Xpath\n",
    "\n",
    "- chrome\n",
    "        '''\n",
    "        $x()  控制台 \n",
    "        $(“”) 测试css的语法是\n",
    "        '''\n",
    "        \n",
    "- 语法\n",
    "        ’‘’\n",
    "        nodename \t选取此节点的所有子节点。\n",
    "        / \t        从根节点选取。\n",
    "        // \t        从匹配选择的当前节点选择文档中的节点，而不考虑它们的位置。\n",
    "        . \t        选取当前节点。\n",
    "        .. \t        选取当前节点的父节点。\n",
    "        @ \t        选取属性\n",
    "        ‘’‘\n",
    "        \n",
    "        '''\n",
    "        bookstore \t        选取 bookstore 元素的所有子节点。\n",
    "        /bookstore \t        选取根元素 bookstore。注释：假如路径起始于正斜杠( / )，则此路径始终代表到某元素的绝对路径！\n",
    "        bookstore/book \t    选取属于 bookstore 的子元素的所有 book 元素。\n",
    "        //book \t            选取所有 book 子元素，而不管它们在文档中的位置。\n",
    "        bookstore//book \t选择属于 bookstore 元素的后代的所有 book 元素，而不管它们位于 bookstore 之下的什么位置。\n",
    "        //@lang \t        选取名为 lang 的所有属性。\n",
    "        '''"
   ]
  },
  {
   "cell_type": "code",
   "execution_count": null,
   "metadata": {},
   "outputs": [],
   "source": []
  }
 ],
 "metadata": {
  "kernelspec": {
   "display_name": "Python 3",
   "language": "python",
   "name": "python3"
  },
  "language_info": {
   "codemirror_mode": {
    "name": "ipython",
    "version": 3
   },
   "file_extension": ".py",
   "mimetype": "text/x-python",
   "name": "python",
   "nbconvert_exporter": "python",
   "pygments_lexer": "ipython3",
   "version": "3.6.4"
  }
 },
 "nbformat": 4,
 "nbformat_minor": 2
}
