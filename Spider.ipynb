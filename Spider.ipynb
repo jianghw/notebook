{
 "cells": [
  {
   "cell_type": "markdown",
   "metadata": {},
   "source": [
    "# Spider"
   ]
  },
  {
   "cell_type": "markdown",
   "metadata": {},
   "source": [
    "## urllib\n",
    "\n",
    "1. 三方库\n",
    "* chardet # 识别html编码\n",
    "\n",
    "2. request\n",
    "    - urlopen\n",
    "    - parse.urlencode()\n",
    "3. response\n",
    "    - json.loads()\n",
    "4. error\n",
    "    - error.URLError\n",
    "    - error.HTTPError\n",
    "5. Proxy\n",
    "    - ProxyHandler\n",
    "    - Opener"
   ]
  },
  {
   "cell_type": "markdown",
   "metadata": {},
   "source": [
    "## ConfigParser\n",
    "\n",
    "        '''\n",
    "        config=ConfigParser()\n",
    "        config.read(file_name,encoding='utf-8')\n",
    "        '''\n",
    "        \n",
    "        "
   ]
  },
  {
   "cell_type": "code",
   "execution_count": 1,
   "metadata": {},
   "outputs": [
    {
     "ename": "SyntaxError",
     "evalue": "invalid syntax (<ipython-input-1-5b1d23578687>, line 2)",
     "output_type": "error",
     "traceback": [
      "\u001b[0;36m  File \u001b[0;32m\"<ipython-input-1-5b1d23578687>\"\u001b[0;36m, line \u001b[0;32m2\u001b[0m\n\u001b[0;31m    function foot(){\u001b[0m\n\u001b[0m                ^\u001b[0m\n\u001b[0;31mSyntaxError\u001b[0m\u001b[0;31m:\u001b[0m invalid syntax\n"
     ]
    }
   ],
   "source": []
  },
  {
   "cell_type": "code",
   "execution_count": null,
   "metadata": {},
   "outputs": [],
   "source": []
  }
 ],
 "metadata": {
  "kernelspec": {
   "display_name": "Python 3",
   "language": "python",
   "name": "python3"
  },
  "language_info": {
   "codemirror_mode": {
    "name": "ipython",
    "version": 3
   },
   "file_extension": ".py",
   "mimetype": "text/x-python",
   "name": "python",
   "nbconvert_exporter": "python",
   "pygments_lexer": "ipython3",
   "version": "3.6.4"
  }
 },
 "nbformat": 4,
 "nbformat_minor": 2
}
