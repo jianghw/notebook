{
 "cells": [
  {
   "cell_type": "markdown",
   "metadata": {},
   "source": [
    "### 字符串\n",
    "\n",
    "- 短字符串驻留机制\n",
    "\n",
    "- 转义符\n",
    "    ```\n",
    "        \\b 退格\n",
    "        \\f 换页\n",
    "        \\n 还行\n",
    "        \\r 回车\n",
    "        \\t 水平字表符\n",
    "        \\v 垂直字表符\n",
    "        \n",
    "        \\ooo   3位 八进制数     对应的字符\n",
    "        \\xhh   2位 十六进制数   对应的字符\n",
    "        \\uhhhh 4位 十六进制数   unicode字符\n",
    "    ```\n",
    "\n",
    "- 格式化\n",
    "    ``` % [-] [+] [0] [m] [.n] 格式字符 % ```\n",
    "\n",
    "\n"
   ]
  }
 ],
 "metadata": {
  "kernelspec": {
   "display_name": "Python 3",
   "language": "python",
   "name": "python3"
  },
  "language_info": {
   "codemirror_mode": {
    "name": "ipython",
    "version": 3
   },
   "file_extension": ".py",
   "mimetype": "text/x-python",
   "name": "python",
   "nbconvert_exporter": "python",
   "pygments_lexer": "ipython3",
   "version": "3.6.5"
  }
 },
 "nbformat": 4,
 "nbformat_minor": 2
}
