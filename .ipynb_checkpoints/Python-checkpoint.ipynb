{
 "cells": [
  {
   "cell_type": "markdown",
   "metadata": {},
   "source": [
    "# Python\n",
    "\n",
    "[TOC]\n"
   ]
  },
  {
   "cell_type": "markdown",
   "metadata": {},
   "source": [
    "## Anaconda\n",
    "\n",
    "[下载地址](https://www.anaconda.com/download/#linux)\n",
    "\n",
    "[安装步骤](https://docs.anaconda.com/anaconda/install/linux)\n",
    "\n",
    "* 安装\n",
    "    - bash ~/Downloads/Anaconda3-5.1.0-Linux-x86_64.sh\n",
    "    - echo 'export PATH=\"~/anaconda2/bin:$PATH\"' >> ~/.bashrc\n",
    "    - source ~/.bashrc\n",
    "    \n",
    "* IDE使用anaconda\n",
    "    - pycharm\n",
    "        setting--Project Interpreter--add local--Conda Environment--ex"
   ]
  },
  {
   "cell_type": "markdown",
   "metadata": {},
   "source": [
    "### Conda\n",
    "\n",
    "[官方文档](https://conda.io/docs/user-guide/tasks/index.html)\n",
    "\n",
    "[查询在线包链接](https://anaconda.org/)\n",
    "\n",
    "* 查看内容\n",
    "    - conda list\n",
    "    - conda -V\n",
    "    - conda -h //查看帮助\n",
    "    - conda info -e //查看所以安装的环境\n",
    "    - python -V\n",
    "* 更新所有包\n",
    "    - conda upgrade -all\n",
    "* install\n",
    "    - conda install package_name\n",
    "    \n",
    "    - conda install numpy=1.13.3\n",
    "    - conda install --name [环境名称] beautifulsoup4\n",
    "* remove\n",
    "    - conda remove package_names\n",
    "    - conda env remove -n xxx //删除指定的环境\n",
    "    - conda remove -n xxx --all\n",
    "* update\n",
    "    - conda update package_name\n",
    "* search\n",
    "    - conda search search_term //可模糊查询\n",
    "* create\n",
    "    - conda create -n env_name package_names //env_name 设置环境\n",
    "    + conda create --name python36 python=3.6\n",
    "    + conda create -n py3 python=3 //可能是最新的包\n",
    "    \n",
    "    + conda info -e //确定创建好\n",
    "    - conda create -n py3 pandas //创建环境py3的环境并其中安装numpy\n",
    "    \n",
    "    - conda create --name py3 --clone base //从其他环境拷贝到新的环境\n",
    "* activate\n",
    "    - source activate py3 //进入环境\n",
    "* deactivate\n",
    "    - source deactivate\n",
    "* 镜像\n",
    "    - ~/.condarc (Linux/Mac)\n",
    "        ```\n",
    "        channels\n",
    "        https://mirrors.tuna.tsinghua.edu.cn/anaconda/pkgs/free/\n",
    "        defaults\n",
    "        show_channel_urls: true\n",
    "        ```       \n",
    "    - ~/.pip/pip.conf (Linux/Mac)\n",
    "        ```\n",
    "        global\n",
    "        trusted-host =  pypi.douban.com\n",
    "        index-url = http://pypi.douban.com/simple\n",
    "        ```\n",
    "  \n",
    "    "
   ]
  },
  {
   "cell_type": "markdown",
   "metadata": {},
   "source": [
    "### jupyter notebook\n",
    "\n",
    "* 快捷键\n",
    "    - Esc + F 在代码中查找、替换\n",
    "    - Esc + O 在cell和输出结果间切换\n",
    "    - Shift + J 或 Shift + Down 选择下一个cell\n",
    "    - Shift + K 或 Shift + Up 选择上一个cell\n",
    "    - Shift + M 合并cell"
   ]
  },
  {
   "cell_type": "markdown",
   "metadata": {},
   "source": [
    "## pip"
   ]
  },
  {
   "cell_type": "markdown",
   "metadata": {},
   "source": [
    "## 字符编码"
   ]
  },
  {
   "cell_type": "code",
   "execution_count": 12,
   "metadata": {},
   "outputs": [
    {
     "name": "stdout",
     "output_type": "stream",
     "text": [
      "'内置函数'\n",
      "b'\\xe5\\x86\\x85\\xe7\\xbd\\xae\\xe5\\x87\\xbd\\xe6\\x95\\xb0'\n",
      "<class 'bytes'>\n",
      "b'\\xe5\\x86\\x85\\xe7\\xbd\\xae\\xe5\\x87\\xbd\\xe6\\x95\\xb0'\n"
     ]
    }
   ],
   "source": [
    "s='内置编码'\n",
    "print(repr(s))\n",
    "u=s.encode('utf8')\n",
    "print(u)\n",
    "print(type(u))\n",
    "print(repr(u))\n",
    "\n",
    "s='解码'\n"
   ]
  },
  {
   "cell_type": "markdown",
   "metadata": {},
   "source": [
    "## 函数\n",
    "\n",
    "### 作用域\n",
    "\n",
    "* L local\n",
    "        局部作用域\n",
    "* E enclosing\n",
    "        嵌套的父级函数的局部作用域，即包含此函数的上级函数的局部作用域\n",
    "* G globa\n",
    "        全局变量，就是模块级别定义的变量\n",
    "* B built-in\n",
    "        系统固定模块里面的变量，比如int, bytearray等\n",
    "* 搜索变量的优先级顺序依次\n",
    "        作用域局部>外层作用域>当前模块中的全局>python内置作用域\n",
    "        L--E--G--B\n"
   ]
  },
  {
   "cell_type": "code",
   "execution_count": 14,
   "metadata": {},
   "outputs": [
    {
     "name": "stdout",
     "output_type": "stream",
     "text": [
      "1\n"
     ]
    }
   ],
   "source": [
    "x=int(2.9)\n",
    "g_count=0 #G\n",
    "def outer():\n",
    "    e_count=1 #E\n",
    "    def inner():\n",
    "        l_count=2 #L\n",
    "        print(e_count)\n",
    "        pass\n",
    "    inner() \n",
    "outer()\n",
    "# local和enclosing是相对的，enclosing变量相对上层来说也是local\n",
    "# def、class、lambda是可以引入新作用域的"
   ]
  },
  {
   "cell_type": "markdown",
   "metadata": {},
   "source": [
    "### 关键字\n",
    "\n",
    "* global\n",
    "* nonlocal"
   ]
  }
 ],
 "metadata": {
  "kernelspec": {
   "display_name": "Python 3",
   "language": "python",
   "name": "python3"
  },
  "language_info": {
   "codemirror_mode": {
    "name": "ipython",
    "version": 3
   },
   "file_extension": ".py",
   "mimetype": "text/x-python",
   "name": "python",
   "nbconvert_exporter": "python",
   "pygments_lexer": "ipython3",
   "version": "3.6.4"
  }
 },
 "nbformat": 4,
 "nbformat_minor": 2
}
