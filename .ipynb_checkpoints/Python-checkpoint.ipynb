{
 "cells": [
  {
   "cell_type": "markdown",
   "metadata": {},
   "source": [
    "# Python"
   ]
  },
  {
   "cell_type": "markdown",
   "metadata": {},
   "source": [
    "## Anaconda\n",
    "\n",
    "[下载地址](https://www.anaconda.com/download/#linux)\n",
    "\n",
    "[安装步骤](https://docs.anaconda.com/anaconda/install/linux)\n",
    "\n",
    "* 安装\n",
    "    - bash ~/Downloads/Anaconda3-5.1.0-Linux-x86_64.sh\n",
    "    - echo 'export PATH=\"~/anaconda2/bin:$PATH\"' >> ~/.bashrc\n",
    "    - source ~/.bashrc"
   ]
  },
  {
   "cell_type": "markdown",
   "metadata": {},
   "source": [
    "### jupyter notebook\n",
    "\n",
    "* 快捷键\n",
    "    - Esc + F 在代码中查找、替换\n",
    "    - Esc + O 在cell和输出结果间切换\n",
    "    - Shift + J 或 Shift + Down 选择下一个cell\n",
    "    - Shift + K 或 Shift + Up 选择上一个cell\n",
    "    - Shift + M 合并cell"
   ]
  },
  {
   "cell_type": "markdown",
   "metadata": {},
   "source": [
    "## Conda\n",
    "\n",
    "    - conda -h 查看帮助\n",
    "    - conda create --name python36 python=3.6    \n",
    "    \n",
    "    - activate python36 激活此环境\n",
    "    - source activate python36\n",
    "\n",
    "    - python -V \n",
    "    - deactivate python36 退出当前环境\n",
    "\n",
    "    - conda remove -n python36 --all 删除该环境\n",
    "    - conda env remove  -n python36\n",
    "\n",
    "    - conda info -e 查看所以安装的环境\n",
    "\n",
    "    - conda update conda 更新conda本身\n",
    "    - conda update anaconda 更新anaconda 应用\n",
    "    - conda update python 假设当前python环境是3.6.1，而最新版本是3.6.2\n",
    "\n",
    "    - conda install matplotlib 安装 matplotlib \n",
    "    - conda list\n",
    "    - conda update matplotlib\n",
    "    - conda remove matplotlib\n",
    "    \n",
    "* 修改 ~/.condarc (Linux/Mac) \n",
    "> \n",
    "channels:\n",
    " - https://mirrors.tuna.tsinghua.edu.cn/anaconda/pkgs/free/\n",
    " - defaults\n",
    "show_channel_urls: true    "
   ]
  },
  {
   "cell_type": "code",
   "execution_count": null,
   "metadata": {},
   "outputs": [],
   "source": []
  },
  {
   "cell_type": "markdown",
   "metadata": {
    "collapsed": true
   },
   "source": []
  },
  {
   "cell_type": "markdown",
   "metadata": {},
   "source": [
    "### 字符编码\n",
    "\n"
   ]
  },
  {
   "cell_type": "code",
   "execution_count": 12,
   "metadata": {},
   "outputs": [
    {
     "name": "stdout",
     "output_type": "stream",
     "text": [
      "'内置函数'\n",
      "b'\\xe5\\x86\\x85\\xe7\\xbd\\xae\\xe5\\x87\\xbd\\xe6\\x95\\xb0'\n",
      "<class 'bytes'>\n",
      "b'\\xe5\\x86\\x85\\xe7\\xbd\\xae\\xe5\\x87\\xbd\\xe6\\x95\\xb0'\n"
     ]
    }
   ],
   "source": [
    "s='内置编码'\n",
    "print(repr(s))\n",
    "u=s.encode('utf8')\n",
    "print(u)\n",
    "print(type(u))\n",
    "print(repr(u))\n",
    "\n",
    "s='解码'\n"
   ]
  }
 ],
 "metadata": {
  "kernelspec": {
   "display_name": "Python 3",
   "language": "python",
   "name": "python3"
  },
  "language_info": {
   "codemirror_mode": {
    "name": "ipython",
    "version": 3
   },
   "file_extension": ".py",
   "mimetype": "text/x-python",
   "name": "python",
   "nbconvert_exporter": "python",
   "pygments_lexer": "ipython3",
   "version": "3.6.4"
  }
 },
 "nbformat": 4,
 "nbformat_minor": 2
}
