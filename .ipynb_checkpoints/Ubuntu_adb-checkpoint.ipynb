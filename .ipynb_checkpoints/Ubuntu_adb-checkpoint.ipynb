{
 "cells": [
  {
   "cell_type": "markdown",
   "metadata": {},
   "source": [
    "### lsof\n",
    "\n",
    "- e.g.\n",
    "    * sudo lsof -i :8081 可查看进程"
   ]
  },
  {
   "cell_type": "markdown",
   "metadata": {},
   "source": [
    "### rm\n",
    "- e.g.\n",
    "    * rm -r * //删除当前目录下除隐含文件外的所有文件和子目录\n",
    "    * rm -frv xx //强制递归删除详情\n",
    "    \n",
    "- 详情\n",
    "    * -d：直接把欲删除的目录的硬连接数据删除成0，删除该目录；\n",
    "    * -f：强制删除文件或目录；\n",
    "    * -i：删除已有文件或目录之前先询问用户；\n",
    "    * -r或-R：递归处理，将指定目录下的所有文件与子目录一并处理；\n",
    "    * --preserve-root：不对根目录进行递归操作；\n",
    "    * -v：显示指令的详细执行过程。\n",
    "    \n",
    "- mysql\n",
    "    - sudo apt-get autoremove --purge mysql-server\n",
    "    - sudo apt-get autoremove --purge mysql-client\n",
    "    - sudo apt-get remove mysql-server\n",
    "    - sudo apt-get autoremove mysql-server\n",
    "    - sudo apt-get remove mysql-common\n",
    "    - sudo apt-get autoremove --purge mysql-common\n",
    "    \n",
    "- 清理残留数据\n",
    "    - dpkg -l |grep ^rc|awk '{print 7&2}' |sudo xargs dpkg -P"
   ]
  },
  {
   "cell_type": "markdown",
   "metadata": {},
   "source": [
    "### dpkg\n",
    "\n",
    "- e.g.\n",
    "    ```\n",
    "        dpkg -i package.deb     #安装包\n",
    "        dpkg -r package         #删除包\n",
    "        dpkg -P package         #删除包（包括配置文件）\n",
    "        dpkg -L package         #列出与该包关联的文件\n",
    "        dpkg -l package         #显示该包的版本\n",
    "        dpkg --unpack package.deb  #解开deb包的内容\n",
    "        dpkg -S keyword            #搜索所属的包内容\n",
    "        dpkg -l                    #列出当前已安装的包\n",
    "        dpkg -c package.deb        #列出deb包的内容\n",
    "        dpkg --configure package   #配置包\n",
    "    ```\n",
    "\n",
    "    ```\n",
    "        -i：安装软件包；\n",
    "        -r：删除软件包；\n",
    "        -P：删除软件包的同时删除其配置文件；\n",
    "        -L：显示于软件包关联的文件；\n",
    "        -l：显示已安装软件包列表；\n",
    "        --unpack：解开软件包；\n",
    "        -c：显示软件包内文件列表；\n",
    "        --confiugre：配置软件包。\n",
    "    ```"
   ]
  },
  {
   "cell_type": "markdown",
   "metadata": {},
   "source": [
    "### chown\n",
    "### chgrp\n",
    "### chmod\n",
    "\n",
    "* e.g. 权限\n",
    "    - chomd u+x,g+w file  # 文件设置执行，组员写入权限\n",
    "    - chomd u=rwx,g=rw,o=r file\n",
    "    - chomd 777 file\n",
    "    - chomd a+x file  # 文件的u,g,o都设置执行属性\n",
    "* args\n",
    "    - R  # 递归处理"
   ]
  },
  {
   "cell_type": "markdown",
   "metadata": {},
   "source": [
    "### locate\n",
    "* e.g.\n",
    "    - sudo updatedb\n",
    "    + locate -i /*xxx*\n",
    "### find\n",
    "- e.g.\n",
    "    - find . //当前目录及子目录下所有文件和文件夹\n",
    "    - find /home -name \"*.txt\" //在/home目录下查找以.txt结尾的文件名\n",
    "    - find /home -iname \"*.txt\" //忽略大小\n",
    "    - find . -name \"*.txt\" -o -name \"*.pdf\" //当前目录及子目录下查找所有以.txt和.pdf结尾的文件\n",
    "    - find /usr/ -path \"*local*\" //匹配文件路径或者文件\n",
    "    \n",
    "    * find ~nemo -type f -empty # 将在 nemo 的主目录中找到空文件\n",
    "- 详情\n",
    "    * find -type f 从当前目录开始将递归列出所有常规文件"
   ]
  },
  {
   "cell_type": "markdown",
   "metadata": {},
   "source": [
    "### Git\n",
    "\n",
    "- 安装\n",
    "    * sudo apt-get install git\n",
    "    * git config --global user.name \"jianghw\"\n",
    "    * git config --global user.eamil \"jhw89@163.com\"\n",
    "    * ssh-keygen -C 'jhw89@163.com' -t rsa"
   ]
  },
  {
   "cell_type": "markdown",
   "metadata": {},
   "source": [
    "### SSH\n",
    "\n",
    "    * dpkg -l | grep ssh  #查看安装的服务 默认只安装ssh-client服务\n",
    "    * ps -e | grep ssh  #ssh-server 有sshd,说明ssh服务已经启\n",
    "    \n",
    "    + sudo apt-get install openssh-server\n",
    "    * sudo /etc/init.d/ssh start\n",
    "    * sudo service ssh start \n",
    "    * sudo /etc/init.d/ssh stop \n",
    "    \n",
    "- 配置\n",
    "    * sudo gedit /etc/ssh/sshd_config"
   ]
  },
  {
   "cell_type": "markdown",
   "metadata": {},
   "source": [
    "### mongoDB\n",
    "\n",
    "- 环境信息\n",
    "    * uname -r\n",
    "    * sudo uname --m\n",
    "    * sudo lsb_release -a\n",
    "    \n",
    "- 安装\n",
    "    * tar -zxvf xxxx.tgz\n",
    "    * export PATH=<mongodb-install-directory>/bin\n",
    "    * mkdir -p /data/db  # MongoDB 默认的启动的数据库路径(--dbpath)\n",
    "    * 默认端口27017\n",
    "    * ./mongod --dbpath=/data/db --rest\n",
    "    \n",
    "- 命令\n",
    "    * sudo service mongod status\n",
    "    * sudo service mongod start\n",
    "    * sudo service mongod retart\n",
    "    * sudo service mongod stop\n",
    "   "
   ]
  },
  {
   "cell_type": "markdown",
   "metadata": {},
   "source": [
    "### f.lux\n",
    "\n",
    "[官方下载](https://justgetflux.com/linux.html)\n",
    "- 安装\n",
    "    * sudo add-apt-repository ppa:nathan-renniewaldock/flux\n",
    "    * sudo apt-get update\n",
    "    * sudo apt-get install fluxgui"
   ]
  },
  {
   "cell_type": "markdown",
   "metadata": {},
   "source": [
    "### Charles\n",
    "\n",
    "[官网下载](http://www.charlesproxy.com/)\n",
    "\n",
    "[破解工具](https://www.zzzmode.com/mytools/charles/)\n",
    "\n",
    "1. 配置\n",
    "    * Proxy->Proxy setting\n",
    "    * Port:8888 Enable transparent HTTP proxying\n",
    " \n",
    "2. 证书\n",
    "    * 设置手机、保持charles连接状态\n",
    "    * Help -> SSL Proxying -> Install Charles Root Certificate on a Mobile Device\n",
    "    * browse to [chls.pro/ssl]\n",
    "    * 设置→通用→关于本机→证书信任设置，里面启用完全信任Charles证书\n",
    " \n",
    "3. 过滤\n",
    "    * Proxy->”Recording Settings”->Include\n",
    "    * Proxy->SSL Proxy Settings->Enable SSL Proxying,点击Add\n",
    "    * Port填写：443"
   ]
  },
  {
   "cell_type": "markdown",
   "metadata": {},
   "source": [
    "### android studio\n",
    "\n",
    "- 环境\n",
    "    ```\n",
    "\n",
    "        export JAVA_HOME=/opt/android-studio/jre\n",
    "        export ANDROID_HOME=/home/jianghw/Android/Sdk\n",
    "        export ADB_HOME=77ANDROID_HOME/platform-tools\n",
    "        export GROOVY_HOME=/home/jianghw/Android/groovy-2.4.13\n",
    "        export GRADLE_HOME=/home/jianghw/Android/gradle-4.1\n",
    "        export PATH=7{PATH}:77{JAVA_HOME}/bin:77{JAVA_HOME}/jre/bin:77{ANDROID_HOME}/tools:77{ADB_HOME}:77{GROOVY_HOME}/bin:7{GRADLE_HOME}/bin\n",
    "        export CLASSPATH=77{CLASSPATH}:.:77{JAVA_HOME}/lib:77{JAVA_HOME}/jre/lib\n",
    "        \n",
    "    ```\n",
    "    \n",
    "- idea.properties\n",
    "    * idea.config.path=/home/jianghw/Android/.AndroidStudio/config\n",
    "    * idea.system.path=/home/jianghw/Android/.AndroidStudio/system\n",
    "    * idea.plugins.path=77{idea.config.path}/plugins\n",
    "    * idea.log.path=77{idea.system.path}/log"
   ]
  },
  {
   "cell_type": "markdown",
   "metadata": {},
   "source": [
    "### Remmina\n",
    "\n",
    "[remmina官网](https://www.remmina.org/wp/)\n",
    "\n",
    "- 安装\n",
    "    * sudo apt-get install remmina remmina-plugin-*   #-->Debian/Ubuntu\n",
    "    * yum install remmina remmina-plugin-*  #-->CentOS/RHEL\n",
    "    * sudo dnf copr enable hubbitus/remmina-next  #-->Fedora 22+\n",
    "    * sudo dnf upgrade --refresh 'remmina*' 'freerdp*'"
   ]
  },
  {
   "cell_type": "markdown",
   "metadata": {},
   "source": [
    "### 系统环境\n",
    "\n",
    "- .bashrc\n",
    "        用户目录下的.bashrc文件\n",
    "        只负责控制台调用的环境变量\n",
    "    * gedit ~/.bashrc\n",
    "    * export PATH=~/mypath/bin:$PATH\n",
    "    * source ~/.bashrc\n",
    "    \n",
    "- .profile\n",
    "        用户目录下的.profile文件\n",
    "        负责本用户所有环境变量的设置\n",
    "        \n",
    "- environment\n",
    "        该文件也是重启生效，影响所有用户\n",
    "    * gedit /etc/environment"
   ]
  },
  {
   "cell_type": "markdown",
   "metadata": {},
   "source": [
    "### 硬盘\n",
    "\n",
    "- fsck\n",
    "    * fsck exited with status code4\n",
    "    * fsck.ext4 -y /dev/sda5"
   ]
  },
  {
   "cell_type": "markdown",
   "metadata": {},
   "source": [
    "### Font\n",
    "\n",
    "    * sudo mkdir /usr/share/fonts/truetype/windows-font\n",
    "    * sudo cp /usr/software/fonts/Fonts/* /usr/share/fonts/truetype/windows-font\n",
    "    * sudo chmod -R 777  /usr/share/fonts/truetype/windows-font\n",
    "    * cd /usr/share/fonts/truetype/windows-font\n",
    "    * sudo mkfontscale\n",
    "    * sudo mkfontdir\n",
    "    * sudo fc-cache -fv\n",
    "    * sudo reboot"
   ]
  }
 ],
 "metadata": {
  "kernelspec": {
   "display_name": "Python 3",
   "language": "python",
   "name": "python3"
  },
  "language_info": {
   "codemirror_mode": {
    "name": "ipython",
    "version": 3
   },
   "file_extension": ".py",
   "mimetype": "text/x-python",
   "name": "python",
   "nbconvert_exporter": "python",
   "pygments_lexer": "ipython3",
   "version": "3.6.5"
  }
 },
 "nbformat": 4,
 "nbformat_minor": 2
}
