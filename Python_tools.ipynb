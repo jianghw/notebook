{
 "cells": [
  {
   "cell_type": "markdown",
   "metadata": {},
   "source": [
    "### Anaconda\n",
    "\n",
    "[官网下载地址](https://www.anaconda.com/download/#linux)\n",
    "\n",
    "[官网安装步骤](https://docs.anaconda.com/anaconda/install/linux)\n",
    "\n",
    "- 安装\n",
    "    ```\n",
    "        bash ~/Downloads/Anaconda3-5.1.0-Linux-x86_64.sh\n",
    "        echo 'export PATH=\"~/anaconda2/bin:PATH\"' >> ~/.bashrc\n",
    "        source ~/.bashrc\n",
    "    ```\n",
    "    \n",
    "- IDE使用anaconda\n",
    "    * pycharm\n",
    "        setting--Project Interpreter--add local--Conda Environment--ex\n",
    "        \n",
    "- anaconda-navigayor\n",
    "        \n",
    "        conda update anaconda-navigator"
   ]
  },
  {
   "cell_type": "markdown",
   "metadata": {},
   "source": [
    "### conda\n",
    "\n",
    "[官方文档](https://conda.io/docs/user-guide/tasks/index.html)\n",
    "\n",
    "[查询在线包链接](https://anaconda.org/)"
   ]
  }
 ],
 "metadata": {
  "kernelspec": {
   "display_name": "Python 3",
   "language": "python",
   "name": "python3"
  },
  "language_info": {
   "codemirror_mode": {
    "name": "ipython",
    "version": 3
   },
   "file_extension": ".py",
   "mimetype": "text/x-python",
   "name": "python",
   "nbconvert_exporter": "python",
   "pygments_lexer": "ipython3",
   "version": "3.6.5"
  }
 },
 "nbformat": 4,
 "nbformat_minor": 2
}
