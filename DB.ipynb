{
 "cells": [
  {
   "cell_type": "markdown",
   "metadata": {},
   "source": [
    "# db"
   ]
  },
  {
   "cell_type": "markdown",
   "metadata": {},
   "source": [
    "## mongoDB\n",
    "\n",
    "- 环境信息\n",
    "    * uname -r\n",
    "    * sudo uname --m\n",
    "    * sudo lsb_release -a\n",
    "- 安装\n",
    "    * tar -zxvf xxxx.tgz\n",
    "    * export PATH=<mongodb-install-directory>/bin\n",
    "    * mkdir -p /data/db  # MongoDB 默认的启动的数据库路径(--dbpath)\n",
    "    * 默认端口27017\n",
    "    * ./mongod --dbpath=/data/db --rest\n",
    "- 命令\n",
    "    * sudo service mongod status\n",
    "    * sudo service mongod start\n",
    "    * sudo service mongod retart\n",
    "    * sudo service mongod stop\n",
    "   "
   ]
  },
  {
   "cell_type": "code",
   "execution_count": null,
   "metadata": {},
   "outputs": [],
   "source": []
  }
 ],
 "metadata": {
  "kernelspec": {
   "display_name": "Python 3",
   "language": "python",
   "name": "python3"
  },
  "language_info": {
   "codemirror_mode": {
    "name": "ipython",
    "version": 3
   },
   "file_extension": ".py",
   "mimetype": "text/x-python",
   "name": "python",
   "nbconvert_exporter": "python",
   "pygments_lexer": "ipython3",
   "version": "3.6.4"
  }
 },
 "nbformat": 4,
 "nbformat_minor": 2
}
