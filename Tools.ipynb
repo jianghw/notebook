{
 "cells": [
  {
   "cell_type": "markdown",
   "metadata": {},
   "source": [
    "## Charles\n",
    "[官网下载](http://www.charlesproxy.com/)\n",
    "\n",
    "[破解工具](https://www.zzzmode.com/mytools/charles/)\n",
    "\n",
    "1. 配置\n",
    " - Proxy->Proxy setting\n",
    " - Port:8888 Enable transparent HTTP proxying\n",
    " \n",
    "2. 证书\n",
    " - 设置手机、保持charles连接状态\n",
    " - Help -> SSL Proxying -> Install Charles Root Certificate on a Mobile Device\n",
    " - browse to [chls.pro/ssl]\n",
    " - 设置→通用→关于本机→证书信任设置，里面启用完全信任Charles证书\n",
    " \n",
    "3. 过滤\n",
    " - Proxy->”Recording Settings”->Include\n",
    " - Proxy->SSL Proxy Settings->Enable SSL Proxying,点击Add\n",
    " - Port填写：443\n",
    " "
   ]
  },
  {
   "cell_type": "markdown",
   "metadata": {},
   "source": [
    "## f.lux\n",
    "\n",
    "[官方下载](https://justgetflux.com/linux.html)\n",
    "\n",
    "- sudo add-apt-repository ppa:nathan-renniewaldock/flux\n",
    "- sudo apt-get update\n",
    "- sudo apt-get install fluxgui"
   ]
  },
  {
   "cell_type": "code",
   "execution_count": null,
   "metadata": {},
   "outputs": [],
   "source": []
  },
  {
   "cell_type": "code",
   "execution_count": null,
   "metadata": {},
   "outputs": [],
   "source": []
  }
 ],
 "metadata": {
  "kernelspec": {
   "display_name": "Python 3",
   "language": "python",
   "name": "python3"
  },
  "language_info": {
   "codemirror_mode": {
    "name": "ipython",
    "version": 3
   },
   "file_extension": ".py",
   "mimetype": "text/x-python",
   "name": "python",
   "nbconvert_exporter": "python",
   "pygments_lexer": "ipython3",
   "version": "3.6.4"
  }
 },
 "nbformat": 4,
 "nbformat_minor": 2
}
