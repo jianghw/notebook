{
 "cells": [
  {
   "cell_type": "markdown",
   "metadata": {},
   "source": [
    "## Charles\n",
    "[官网下载](http://www.charlesproxy.com/)\n",
    "\n",
    "[破解工具](https://www.zzzmode.com/mytools/charles/)\n",
    "\n",
    "1. 配置\n",
    "    - Proxy->Proxy setting\n",
    "    - Port:8888 Enable transparent HTTP proxying\n",
    " \n",
    "2. 证书\n",
    "    - 设置手机、保持charles连接状态\n",
    "    - Help -> SSL Proxying -> Install Charles Root Certificate on a Mobile Device\n",
    "    - browse to [chls.pro/ssl]\n",
    "    - 设置→通用→关于本机→证书信任设置，里面启用完全信任Charles证书\n",
    " \n",
    "3. 过滤\n",
    "    - Proxy->”Recording Settings”->Include\n",
    "    - Proxy->SSL Proxy Settings->Enable SSL Proxying,点击Add\n",
    "    - Port填写：443\n",
    " "
   ]
  },
  {
   "cell_type": "markdown",
   "metadata": {},
   "source": [
    "## f.lux\n",
    "\n",
    "[官方下载](https://justgetflux.com/linux.html)\n",
    "* 安装\n",
    "    - sudo add-apt-repository ppa:nathan-renniewaldock/flux\n",
    "    - sudo apt-get update\n",
    "    - sudo apt-get install fluxgui"
   ]
  },
  {
   "cell_type": "markdown",
   "metadata": {},
   "source": [
    "## android studio\n",
    "\n",
    "* 环境\n",
    "        ```\n",
    "        export JAVA_HOME=/opt/android-studio/jre\n",
    "        export ANDROID_HOME=/home/jianghw/Android/Sdk\n",
    "        export ADB_HOME=${ANDROID_HOME}/platform-tools\n",
    "    \n",
    "        export GROOVY_HOME=/home/jianghw/Android/groovy-2.4.13\n",
    "        export GRADLE_HOME=/home/jianghw/Android/gradle-4.1\n",
    "        export PATH=${PATH}:${JAVA_HOME}/bin:${JAVA_HOME}/jre/bin\n",
    "    :${ANDROID_HOME}/tools:${ADB_HOME}:${GROOVY_HOME}/bin:${GRADLE_HOME}/bin\n",
    "    \n",
    "        export CLASSPATH=${CLASSPATH}:.:${JAVA_HOME}/lib:${JAVA_HOME}/jre/lib\n",
    "        ```\n",
    "\n",
    "* idea.properties\n",
    "    - idea.config.path=/home/jianghw/Android/.AndroidStudio/config\n",
    "    - idea.system.path=/home/jianghw/Android/.AndroidStudio/system\n",
    "    - idea.plugins.path=${idea.config.path}/plugins\n",
    "    - idea.log.path=${idea.system.path}/log"
   ]
  },
  {
   "cell_type": "markdown",
   "metadata": {},
   "source": [
    "## Git\n",
    "\n",
    "- 安装\n",
    "    * sudo apt-get install git\n",
    "    * git config --global user.name \"jianghw\"\n",
    "    * git config --global user.eamil \"jhw89@163.com\"\n",
    "    * ssh-keygen -C 'jhw89@163.com' -t rsa"
   ]
  },
  {
   "cell_type": "code",
   "execution_count": null,
   "metadata": {},
   "outputs": [],
   "source": []
  }
 ],
 "metadata": {
  "kernelspec": {
   "display_name": "Python 3",
   "language": "python",
   "name": "python3"
  },
  "language_info": {
   "codemirror_mode": {
    "name": "ipython",
    "version": 3
   },
   "file_extension": ".py",
   "mimetype": "text/x-python",
   "name": "python",
   "nbconvert_exporter": "python",
   "pygments_lexer": "ipython3",
   "version": "3.6.4"
  }
 },
 "nbformat": 4,
 "nbformat_minor": 2
}
