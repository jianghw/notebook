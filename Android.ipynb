{
 "cells": [
  {
   "cell_type": "markdown",
   "metadata": {},
   "source": [
    "# Android"
   ]
  },
  {
   "cell_type": "markdown",
   "metadata": {},
   "source": [
    "## 单位\n",
    "\n",
    "        px（pixels）：(像素) 屏幕上可见像素点\n",
    "        dip/dp（Density independent pixels）： 设备无关像素的长度单位。\n",
    "        sp（放大像素）：scaled pixels，字体显示 best for text size （字体大小设置而变化）\n",
    "        \n",
    "        dpi：(dots per inch )一英寸多少个像素点。常见取值 120，160，240。像素密度\n",
    "        density：密度。常见取值 1.5 ， 1.0 。和标准dpi的比例（160px/inc）\n",
    "        \n",
    "        in (英寸)：长度单位\n",
    "        mm（毫米）：长度单位\n",
    "        pt：point（磅)一个标准的长度单位，1pt ＝ 1/72英寸"
   ]
  },
  {
   "cell_type": "markdown",
   "metadata": {},
   "source": [
    "## 适配\n",
    "\n",
    "* TypedValue\n",
    "    - applyDimension\n",
    "'''\n",
    "    public static float applyDimension(int unit, float value,\n",
    "                                       DisplayMetrics metrics)\n",
    "    {\n",
    "        switch (unit) {\n",
    "        case COMPLEX_UNIT_PX:\n",
    "            return value;\n",
    "        case COMPLEX_UNIT_DIP:\n",
    "            return value * metrics.density;\n",
    "        case COMPLEX_UNIT_SP:\n",
    "            return value * metrics.scaledDensity;\n",
    "        case COMPLEX_UNIT_PT:\n",
    "            return value * metrics.xdpi * (1.0f/72);\n",
    "        case COMPLEX_UNIT_IN:\n",
    "            return value * metrics.xdpi;\n",
    "        case COMPLEX_UNIT_MM:\n",
    "            return value * metrics.xdpi * (1.0f/25.4f);\n",
    "        }\n",
    "        return 0;\n",
    "    }\n",
    "'''\n",
    "***\n",
    "* 计算\n",
    "        5.2英寸，分辨率为1080×1920\n",
    "        \n",
    "        屏幕尺寸->屏幕对角线长度，多以英寸为单位->5.2 in\n",
    "        \n",
    "        物理宽度->1080/√￣(1080×1080+1920×1920)=w/5.2->1080/√￣(1080×1080+1920×1920) * 5.2=2.55\n",
    "        \n",
    "        dpi = 对角线像素点数（根据分辨率通过勾股定理获取)/屏幕尺寸\n",
    "        像素密度dpi->√￣(1080×1080+1920×1920)/5.2=423.635->420dpi\n",
    "        or\n",
    "        1080/2.55=423.529->420dpi (px/in) \n",
    "        \n",
    "        密度density->dpi/160=2.625->0.75 1 2 3\n",
    "        \n",
    "        sp->sp*dpi/160=px->sp*density=px->"
   ]
  },
  {
   "cell_type": "code",
   "execution_count": null,
   "metadata": {},
   "outputs": [],
   "source": []
  }
 ],
 "metadata": {
  "kernelspec": {
   "display_name": "Python 3",
   "language": "python",
   "name": "python3"
  },
  "language_info": {
   "codemirror_mode": {
    "name": "ipython",
    "version": 3
   },
   "file_extension": ".py",
   "mimetype": "text/x-python",
   "name": "python",
   "nbconvert_exporter": "python",
   "pygments_lexer": "ipython3",
   "version": "3.6.4"
  }
 },
 "nbformat": 4,
 "nbformat_minor": 2
}
