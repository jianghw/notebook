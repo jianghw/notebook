{
 "cells": [
  {
   "cell_type": "markdown",
   "metadata": {},
   "source": [
    "# Ubuntu"
   ]
  },
  {
   "cell_type": "markdown",
   "metadata": {},
   "source": [
    "## Git\n",
    "\n",
    "* 安装\n",
    "    - sudo apt-get install git\n",
    "    - git config --global user.name \"jianghw\"\n",
    "    - git config --global user.eamil \"jhw89@163.com\"\n",
    "    - ssh-keygen -C 'jhw89@163.com' -t rsa"
   ]
  },
  {
   "cell_type": "markdown",
   "metadata": {},
   "source": [
    "## SSH\n",
    "\n",
    "    - dpkg -l | grep ssh #查看安装的服务\n",
    "    - ps -e | grep ssh #ssh-server是否启动\n",
    "    \n",
    "    + sudo apt-get install openssh-server\n",
    "    - sudo /etc/init.d/ssh start\n",
    "    - sudo service ssh start \n",
    "    - sudo /etc/init.d/ssh stop "
   ]
  },
  {
   "cell_type": "markdown",
   "metadata": {},
   "source": [
    "## 系统环境\n",
    "\n",
    "* .bashrc\n",
    "        用户目录下的.bashrc文件\n",
    "        只负责控制台调用的环境变量\n",
    "    - gedit ~/.bashrc\n",
    "    - export PATH=~/mypath/bin:$PATH\n",
    "    - source ~/.bashrc\n",
    "    \n",
    "* .profile\n",
    "        用户目录下的.profile文件\n",
    "        负责本用户所有环境变量的设置\n",
    "        \n",
    "* environment\n",
    "        该文件也是重启生效，影响所有用户\n",
    "    - gedit /etc/environment"
   ]
  },
  {
   "cell_type": "markdown",
   "metadata": {},
   "source": [
    "## 硬盘\n",
    "\n",
    "* fsck\n",
    "    - fsck exited with status code4\n",
    "    - fsck.ext4 -y /dev/sda5"
   ]
  },
  {
   "cell_type": "markdown",
   "metadata": {},
   "source": [
    "## Font\n",
    "\n",
    "    - sudo mkdir /usr/share/fonts/truetype/windows-font\n",
    "    - sudo cp /usr/software/fonts/Fonts/* /usr/share/fonts/truetype/windows-font\n",
    "    - sudo chmod -R 777  /usr/share/fonts/truetype/windows-font\n",
    "    - cd /usr/share/fonts/truetype/windows-font\n",
    "    - sudo mkfontscale\n",
    "    - sudo mkfontdir\n",
    "    - sudo fc-cache -fv\n",
    "    - sudo reboot"
   ]
  },
  {
   "cell_type": "code",
   "execution_count": null,
   "metadata": {},
   "outputs": [],
   "source": []
  }
 ],
 "metadata": {
  "kernelspec": {
   "display_name": "Python 3",
   "language": "python",
   "name": "python3"
  },
  "language_info": {
   "codemirror_mode": {
    "name": "ipython",
    "version": 3
   },
   "file_extension": ".py",
   "mimetype": "text/x-python",
   "name": "python",
   "nbconvert_exporter": "python",
   "pygments_lexer": "ipython3",
   "version": "3.6.4"
  }
 },
 "nbformat": 4,
 "nbformat_minor": 2
}
