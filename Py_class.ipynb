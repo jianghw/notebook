{
 "cells": [
  {
   "cell_type": "markdown",
   "metadata": {},
   "source": [
    "### 元类 metaclass\n",
    "\n",
    "元类用来指导类的生成，元方法可以从元类或者类中调用，不能从类的实例中调用   \n",
    "类方法既可以从类中调用也可以从类的实例中调用\n",
    "\n",
    "1. 类型\n",
    "    - type\n",
    "        某类的type()为‘type'\n",
    "        \n",
    "2. type运用\n",
    "    - 创建\n",
    "        type(类名，父类的元祖，包含属性的字典)\n",
    "        \n",
    "3. 继承type来自定义元类\n"
   ]
  },
  {
   "cell_type": "code",
   "execution_count": 9,
   "metadata": {},
   "outputs": [
    {
     "name": "stdout",
     "output_type": "stream",
     "text": [
      "<class '__main__.dynamic_class.<locals>.A'>\n",
      "<class 'type'>\n"
     ]
    },
    {
     "data": {
      "text/plain": [
       "<__main__.dynamic_class.<locals>.A at 0x7f19fc20a4a8>"
      ]
     },
     "execution_count": 9,
     "metadata": {},
     "output_type": "execute_result"
    }
   ],
   "source": [
    "def dynamic_class(name):\n",
    "    if name=='A':\n",
    "        class A(object):\n",
    "            pass\n",
    "        return A\n",
    "    else:\n",
    "        class B(object):\n",
    "            pass\n",
    "        return B\n",
    "\n",
    "DemoClass=dynamic_class('A')\n",
    "print(DemoClass)\n",
    "print(type(DemoClass))\n",
    "DemoClass()\n",
    "# print(type(DemoClass()))"
   ]
  },
  {
   "cell_type": "code",
   "execution_count": 13,
   "metadata": {},
   "outputs": [
    {
     "name": "stdout",
     "output_type": "stream",
     "text": [
      "<class '__main__.A'>\n",
      "<class 'type'>\n"
     ]
    }
   ],
   "source": [
    "A=type('A',(object,),{'value':2})\n",
    "A.value\n",
    "print(A)\n",
    "class C(A):\n",
    "    pass\n",
    "print(C.__class__)"
   ]
  },
  {
   "cell_type": "code",
   "execution_count": null,
   "metadata": {},
   "outputs": [],
   "source": [
    "class TypeSetter(object):\n",
    "    def __init__(self,fieldtype):\n",
    "        print('set attribute type - {}'.format(fieldtype))\n",
    "        self.fieldtype=fieldtype\n",
    "        \n",
    "    def is_valid(self,value):\n",
    "        return isinstance(value,self.fieldtype)\n",
    "    \n",
    "class TypeCheckMeta(object):\n",
    "    def __new__(cls,name,bases,dict):\n",
    "        print('name- {} bases- {} dict-{}'.format(name,bases,dict))\n",
    "        return super(TypeCheckMeta,cls).__new__(name,bases,dict)\n",
    "    \n",
    "    def __init__(self,name,bases,dict):\n",
    "        self._fields={}\n",
    "        for key,value in dict.item():\n",
    "            if isinstance(value,TypeSetter):\n",
    "                self._fields[key]=value\n",
    "                \n",
    "class TypeCheck(object):\n",
    "    __metaclass__=TypeCheckMeta\n",
    "    def __setattr__(self,key,value):\n",
    "        if key in self._fields:\n",
    "            if not self._fields[key].is_valid(value):\n",
    "                raise TypeError('invalid type for field')\n",
    "        super(TypeCheck,self).__setattr__(key,value)\n",
    "        "
   ]
  },
  {
   "cell_type": "markdown",
   "metadata": {},
   "source": [
    "### 对象协议\n",
    "\n",
    "1. 比较协议\n",
    "2. 数值类型协议\n",
    "3. 容器类型协议\n",
    "4. 可调用对象协议\n",
    "5. hash协议\n",
    "6. 属性交互协议"
   ]
  }
 ],
 "metadata": {
  "kernelspec": {
   "display_name": "Python 3",
   "language": "python",
   "name": "python3"
  },
  "language_info": {
   "codemirror_mode": {
    "name": "ipython",
    "version": 3
   },
   "file_extension": ".py",
   "mimetype": "text/x-python",
   "name": "python",
   "nbconvert_exporter": "python",
   "pygments_lexer": "ipython3",
   "version": "3.6.5"
  }
 },
 "nbformat": 4,
 "nbformat_minor": 2
}
